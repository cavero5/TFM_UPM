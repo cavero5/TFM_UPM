{
 "cells": [
  {
   "cell_type": "markdown",
   "metadata": {},
   "source": [
    "# Generación de embeddings"
   ]
  },
  {
   "cell_type": "markdown",
   "metadata": {},
   "source": [
    "## Carga de librerías"
   ]
  },
  {
   "cell_type": "code",
   "execution_count": 1,
   "metadata": {
    "execution": {
     "iopub.execute_input": "2025-09-09T16:33:30.498331Z",
     "iopub.status.busy": "2025-09-09T16:33:30.498082Z",
     "iopub.status.idle": "2025-09-09T16:34:12.913565Z",
     "shell.execute_reply": "2025-09-09T16:34:12.912936Z",
     "shell.execute_reply.started": "2025-09-09T16:33:30.498305Z"
    }
   },
   "outputs": [
    {
     "name": "stderr",
     "output_type": "stream",
     "text": [
      "2025-09-09 16:33:52.932187: E external/local_xla/xla/stream_executor/cuda/cuda_fft.cc:477] Unable to register cuFFT factory: Attempting to register factory for plugin cuFFT when one has already been registered\n",
      "WARNING: All log messages before absl::InitializeLog() is called are written to STDERR\n",
      "E0000 00:00:1757435633.299601      36 cuda_dnn.cc:8310] Unable to register cuDNN factory: Attempting to register factory for plugin cuDNN when one has already been registered\n",
      "E0000 00:00:1757435633.406813      36 cuda_blas.cc:1418] Unable to register cuBLAS factory: Attempting to register factory for plugin cuBLAS when one has already been registered\n"
     ]
    }
   ],
   "source": [
    "from ast import literal_eval\n",
    "from sentence_transformers import SentenceTransformer\n",
    "\n",
    "import pandas as pd\n",
    "import torch\n",
    "import pickle"
   ]
  },
  {
   "cell_type": "markdown",
   "metadata": {},
   "source": [
    "## Carga y transformación de datos"
   ]
  },
  {
   "cell_type": "code",
   "execution_count": 2,
   "metadata": {
    "execution": {
     "iopub.execute_input": "2025-09-09T16:34:12.915152Z",
     "iopub.status.busy": "2025-09-09T16:34:12.914621Z",
     "iopub.status.idle": "2025-09-09T16:34:12.918705Z",
     "shell.execute_reply": "2025-09-09T16:34:12.918032Z",
     "shell.execute_reply.started": "2025-09-09T16:34:12.915131Z"
    }
   },
   "outputs": [],
   "source": [
    "data_path = \"../data/topics.csv\""
   ]
  },
  {
   "cell_type": "code",
   "execution_count": 5,
   "metadata": {
    "execution": {
     "iopub.execute_input": "2025-09-09T16:37:23.443103Z",
     "iopub.status.busy": "2025-09-09T16:37:23.442823Z",
     "iopub.status.idle": "2025-09-09T16:37:25.718986Z",
     "shell.execute_reply": "2025-09-09T16:37:25.718260Z",
     "shell.execute_reply.started": "2025-09-09T16:37:23.443082Z"
    }
   },
   "outputs": [
    {
     "data": {
      "text/html": [
       "<div>\n",
       "<style scoped>\n",
       "    .dataframe tbody tr th:only-of-type {\n",
       "        vertical-align: middle;\n",
       "    }\n",
       "\n",
       "    .dataframe tbody tr th {\n",
       "        vertical-align: top;\n",
       "    }\n",
       "\n",
       "    .dataframe thead th {\n",
       "        text-align: right;\n",
       "    }\n",
       "</style>\n",
       "<table border=\"1\" class=\"dataframe\">\n",
       "  <thead>\n",
       "    <tr style=\"text-align: right;\">\n",
       "      <th></th>\n",
       "      <th>tid</th>\n",
       "      <th>n_messages</th>\n",
       "      <th>description</th>\n",
       "      <th>keywords</th>\n",
       "      <th>representative_docs</th>\n",
       "      <th>theme</th>\n",
       "    </tr>\n",
       "  </thead>\n",
       "  <tbody>\n",
       "    <tr>\n",
       "      <th>0</th>\n",
       "      <td>0</td>\n",
       "      <td>111</td>\n",
       "      <td>0_vacunamos_novavax_fauci_reacciones</td>\n",
       "      <td>['vacunamos', 'novavax', 'fauci', 'reacciones'...</td>\n",
       "      <td>['estracto de la agencia europea del medicamen...</td>\n",
       "      <td>Conspiracy theories and misinformation about C...</td>\n",
       "    </tr>\n",
       "    <tr>\n",
       "      <th>1</th>\n",
       "      <td>1</td>\n",
       "      <td>106</td>\n",
       "      <td>1_encontrado_oficialialistas_mujer_desconectado</td>\n",
       "      <td>['encontrado', 'oficialialistas', 'mujer', 'de...</td>\n",
       "      <td>['los viajes espaciales, la creacion de una pa...</td>\n",
       "      <td>The theme revolves around conspiracy theories ...</td>\n",
       "    </tr>\n",
       "    <tr>\n",
       "      <th>2</th>\n",
       "      <td>2</td>\n",
       "      <td>85</td>\n",
       "      <td>2_expreso0demedianoche_directo_anonimo_descarg...</td>\n",
       "      <td>['expreso0demedianoche', 'directo', 'anonimo',...</td>\n",
       "      <td>['el expreso de media noche directo del 24/02 ...</td>\n",
       "      <td>Unauthorized use of a popular podcast's name a...</td>\n",
       "    </tr>\n",
       "    <tr>\n",
       "      <th>3</th>\n",
       "      <td>3</td>\n",
       "      <td>65</td>\n",
       "      <td>3_despiertos_actuamos_inocencia_hijos</td>\n",
       "      <td>['despiertos', 'actuamos', 'inocencia', 'hijos...</td>\n",
       "      <td>['da mucho asco ver ciertos personajes que van...</td>\n",
       "      <td>Critique of egoism, superficiality, and lack o...</td>\n",
       "    </tr>\n",
       "    <tr>\n",
       "      <th>4</th>\n",
       "      <td>4</td>\n",
       "      <td>63</td>\n",
       "      <td>4_protestas_republica_belga_cerrados</td>\n",
       "      <td>['protestas', 'republica', 'belga', 'cerrados'...</td>\n",
       "      <td>['la gente se defiende: suiza fuerza un refere...</td>\n",
       "      <td>Public discontent and resistance against gover...</td>\n",
       "    </tr>\n",
       "  </tbody>\n",
       "</table>\n",
       "</div>"
      ],
      "text/plain": [
       "   tid  n_messages                                        description  \\\n",
       "0    0         111               0_vacunamos_novavax_fauci_reacciones   \n",
       "1    1         106    1_encontrado_oficialialistas_mujer_desconectado   \n",
       "2    2          85  2_expreso0demedianoche_directo_anonimo_descarg...   \n",
       "3    3          65              3_despiertos_actuamos_inocencia_hijos   \n",
       "4    4          63               4_protestas_republica_belga_cerrados   \n",
       "\n",
       "                                            keywords  \\\n",
       "0  ['vacunamos', 'novavax', 'fauci', 'reacciones'...   \n",
       "1  ['encontrado', 'oficialialistas', 'mujer', 'de...   \n",
       "2  ['expreso0demedianoche', 'directo', 'anonimo',...   \n",
       "3  ['despiertos', 'actuamos', 'inocencia', 'hijos...   \n",
       "4  ['protestas', 'republica', 'belga', 'cerrados'...   \n",
       "\n",
       "                                 representative_docs  \\\n",
       "0  ['estracto de la agencia europea del medicamen...   \n",
       "1  ['los viajes espaciales, la creacion de una pa...   \n",
       "2  ['el expreso de media noche directo del 24/02 ...   \n",
       "3  ['da mucho asco ver ciertos personajes que van...   \n",
       "4  ['la gente se defiende: suiza fuerza un refere...   \n",
       "\n",
       "                                               theme  \n",
       "0  Conspiracy theories and misinformation about C...  \n",
       "1  The theme revolves around conspiracy theories ...  \n",
       "2  Unauthorized use of a popular podcast's name a...  \n",
       "3  Critique of egoism, superficiality, and lack o...  \n",
       "4  Public discontent and resistance against gover...  "
      ]
     },
     "execution_count": 5,
     "metadata": {},
     "output_type": "execute_result"
    }
   ],
   "source": [
    "df_topics = pd.read_csv(data_path)\n",
    "df_topics.head().iloc[:, 1:]"
   ]
  },
  {
   "cell_type": "code",
   "execution_count": 6,
   "metadata": {
    "execution": {
     "iopub.execute_input": "2025-09-09T16:37:31.518895Z",
     "iopub.status.busy": "2025-09-09T16:37:31.518122Z",
     "iopub.status.idle": "2025-09-09T16:37:32.790542Z",
     "shell.execute_reply": "2025-09-09T16:37:32.789739Z",
     "shell.execute_reply.started": "2025-09-09T16:37:31.518856Z"
    }
   },
   "outputs": [],
   "source": [
    "# Columna de strings a listas\n",
    "df_topics[\"representative_docs\"] = df_topics[\"representative_docs\"].apply(literal_eval)"
   ]
  },
  {
   "cell_type": "code",
   "execution_count": 7,
   "metadata": {
    "execution": {
     "iopub.execute_input": "2025-09-09T16:37:32.792117Z",
     "iopub.status.busy": "2025-09-09T16:37:32.791854Z",
     "iopub.status.idle": "2025-09-09T16:37:32.839806Z",
     "shell.execute_reply": "2025-09-09T16:37:32.839221Z",
     "shell.execute_reply.started": "2025-09-09T16:37:32.792100Z"
    }
   },
   "outputs": [
    {
     "data": {
      "text/html": [
       "<div>\n",
       "<style scoped>\n",
       "    .dataframe tbody tr th:only-of-type {\n",
       "        vertical-align: middle;\n",
       "    }\n",
       "\n",
       "    .dataframe tbody tr th {\n",
       "        vertical-align: top;\n",
       "    }\n",
       "\n",
       "    .dataframe thead th {\n",
       "        text-align: right;\n",
       "    }\n",
       "</style>\n",
       "<table border=\"1\" class=\"dataframe\">\n",
       "  <thead>\n",
       "    <tr style=\"text-align: right;\">\n",
       "      <th></th>\n",
       "      <th>tid</th>\n",
       "      <th>representative_docs</th>\n",
       "    </tr>\n",
       "  </thead>\n",
       "  <tbody>\n",
       "    <tr>\n",
       "      <th>0</th>\n",
       "      <td>0</td>\n",
       "      <td>estracto de la agencia europea del medicamento...</td>\n",
       "    </tr>\n",
       "    <tr>\n",
       "      <th>1</th>\n",
       "      <td>0</td>\n",
       "      <td>\" si me vacunan: 1 . - ¿ puedo dejar de usar l...</td>\n",
       "    </tr>\n",
       "    <tr>\n",
       "      <th>2</th>\n",
       "      <td>0</td>\n",
       "      <td>buenos días la ema avisa de que la segunda do...</td>\n",
       "    </tr>\n",
       "    <tr>\n",
       "      <th>3</th>\n",
       "      <td>1</td>\n",
       "      <td>los viajes espaciales, la creacion de una pand...</td>\n",
       "    </tr>\n",
       "    <tr>\n",
       "      <th>4</th>\n",
       "      <td>1</td>\n",
       "      <td>2011...este articulo del periodico sovereign i...</td>\n",
       "    </tr>\n",
       "  </tbody>\n",
       "</table>\n",
       "</div>"
      ],
      "text/plain": [
       "   tid                                representative_docs\n",
       "0    0  estracto de la agencia europea del medicamento...\n",
       "1    0  \" si me vacunan: 1 . - ¿ puedo dejar de usar l...\n",
       "2    0  buenos días la ema avisa de que la segunda do...\n",
       "3    1  los viajes espaciales, la creacion de una pand...\n",
       "4    1  2011...este articulo del periodico sovereign i..."
      ]
     },
     "execution_count": 7,
     "metadata": {},
     "output_type": "execute_result"
    }
   ],
   "source": [
    "# Una fila por doc\n",
    "cols = [\"_id\", \"tid\", \"representative_docs\"]\n",
    "df_topics_expl = (df_topics[cols]\n",
    "                  .explode(\"representative_docs\", ignore_index=True))\n",
    "df_topics_expl.head().iloc[:, 1:]"
   ]
  },
  {
   "cell_type": "code",
   "execution_count": 8,
   "metadata": {
    "execution": {
     "iopub.execute_input": "2025-09-09T16:37:32.840956Z",
     "iopub.status.busy": "2025-09-09T16:37:32.840767Z",
     "iopub.status.idle": "2025-09-09T16:37:32.845931Z",
     "shell.execute_reply": "2025-09-09T16:37:32.845302Z",
     "shell.execute_reply.started": "2025-09-09T16:37:32.840940Z"
    }
   },
   "outputs": [
    {
     "data": {
      "text/plain": [
       "(64842, 3)"
      ]
     },
     "execution_count": 8,
     "metadata": {},
     "output_type": "execute_result"
    }
   ],
   "source": [
    "df_topics_expl.shape"
   ]
  },
  {
   "cell_type": "code",
   "execution_count": 9,
   "metadata": {
    "execution": {
     "iopub.execute_input": "2025-09-09T16:37:32.847725Z",
     "iopub.status.busy": "2025-09-09T16:37:32.847478Z",
     "iopub.status.idle": "2025-09-09T16:37:33.163851Z",
     "shell.execute_reply": "2025-09-09T16:37:33.163088Z",
     "shell.execute_reply.started": "2025-09-09T16:37:32.847708Z"
    }
   },
   "outputs": [],
   "source": [
    "# Evitar repetir el mismo doc dentro del mismo tópico en un mismo canal\n",
    "df_topics_expl = (df_topics_expl\n",
    "                  .drop_duplicates()\n",
    "                  .reset_index(drop=True))"
   ]
  },
  {
   "cell_type": "code",
   "execution_count": 10,
   "metadata": {
    "execution": {
     "iopub.execute_input": "2025-09-09T16:37:33.164784Z",
     "iopub.status.busy": "2025-09-09T16:37:33.164582Z",
     "iopub.status.idle": "2025-09-09T16:37:33.169868Z",
     "shell.execute_reply": "2025-09-09T16:37:33.169177Z",
     "shell.execute_reply.started": "2025-09-09T16:37:33.164768Z"
    }
   },
   "outputs": [
    {
     "data": {
      "text/plain": [
       "(64228, 3)"
      ]
     },
     "execution_count": 10,
     "metadata": {},
     "output_type": "execute_result"
    }
   ],
   "source": [
    "df_topics_expl.shape"
   ]
  },
  {
   "cell_type": "code",
   "execution_count": 11,
   "metadata": {
    "execution": {
     "iopub.execute_input": "2025-09-09T16:37:33.170759Z",
     "iopub.status.busy": "2025-09-09T16:37:33.170482Z",
     "iopub.status.idle": "2025-09-09T16:37:33.842627Z",
     "shell.execute_reply": "2025-09-09T16:37:33.841886Z",
     "shell.execute_reply.started": "2025-09-09T16:37:33.170726Z"
    }
   },
   "outputs": [
    {
     "data": {
      "text/plain": [
       "count    64228.000000\n",
       "mean       177.649156\n",
       "std        172.629051\n",
       "min         14.000000\n",
       "25%         55.000000\n",
       "50%        120.000000\n",
       "75%        219.000000\n",
       "max       1034.000000\n",
       "Name: representative_docs, dtype: float64"
      ]
     },
     "execution_count": 11,
     "metadata": {},
     "output_type": "execute_result"
    }
   ],
   "source": [
    "# Nº de palabras en los mensajes\n",
    "df_topics_expl[\"representative_docs\"].apply(lambda x: len(x.split(\" \"))).describe()"
   ]
  },
  {
   "cell_type": "markdown",
   "metadata": {},
   "source": [
    "## Generación de embeddings"
   ]
  },
  {
   "cell_type": "code",
   "execution_count": 12,
   "metadata": {
    "execution": {
     "iopub.execute_input": "2025-09-09T16:37:33.843721Z",
     "iopub.status.busy": "2025-09-09T16:37:33.843426Z",
     "iopub.status.idle": "2025-09-09T16:37:48.203897Z",
     "shell.execute_reply": "2025-09-09T16:37:48.203068Z",
     "shell.execute_reply.started": "2025-09-09T16:37:33.843697Z"
    }
   },
   "outputs": [
    {
     "data": {
      "application/vnd.jupyter.widget-view+json": {
       "model_id": "4fbda0cbd98e46cdaf542fd13ca510b6",
       "version_major": 2,
       "version_minor": 0
      },
      "text/plain": [
       "modules.json:   0%|          | 0.00/229 [00:00<?, ?B/s]"
      ]
     },
     "metadata": {},
     "output_type": "display_data"
    },
    {
     "data": {
      "application/vnd.jupyter.widget-view+json": {
       "model_id": "a19b57bdb37e416ab076775cee60e1ed",
       "version_major": 2,
       "version_minor": 0
      },
      "text/plain": [
       "config_sentence_transformers.json:   0%|          | 0.00/122 [00:00<?, ?B/s]"
      ]
     },
     "metadata": {},
     "output_type": "display_data"
    },
    {
     "data": {
      "application/vnd.jupyter.widget-view+json": {
       "model_id": "f2c03184b7f844fe975088762f7f097b",
       "version_major": 2,
       "version_minor": 0
      },
      "text/plain": [
       "README.md: 0.00B [00:00, ?B/s]"
      ]
     },
     "metadata": {},
     "output_type": "display_data"
    },
    {
     "data": {
      "application/vnd.jupyter.widget-view+json": {
       "model_id": "786455fddbfe46208c20aed06382115b",
       "version_major": 2,
       "version_minor": 0
      },
      "text/plain": [
       "sentence_bert_config.json:   0%|          | 0.00/53.0 [00:00<?, ?B/s]"
      ]
     },
     "metadata": {},
     "output_type": "display_data"
    },
    {
     "data": {
      "application/vnd.jupyter.widget-view+json": {
       "model_id": "60873090ca5f4c4a8f6409053b925fda",
       "version_major": 2,
       "version_minor": 0
      },
      "text/plain": [
       "config.json:   0%|          | 0.00/723 [00:00<?, ?B/s]"
      ]
     },
     "metadata": {},
     "output_type": "display_data"
    },
    {
     "data": {
      "application/vnd.jupyter.widget-view+json": {
       "model_id": "600fca33c72f49bea5c6924a5d2567ff",
       "version_major": 2,
       "version_minor": 0
      },
      "text/plain": [
       "model.safetensors:   0%|          | 0.00/1.11G [00:00<?, ?B/s]"
      ]
     },
     "metadata": {},
     "output_type": "display_data"
    },
    {
     "data": {
      "application/vnd.jupyter.widget-view+json": {
       "model_id": "77be2d1f44cf471eb75863bd7e8c1c3a",
       "version_major": 2,
       "version_minor": 0
      },
      "text/plain": [
       "tokenizer_config.json:   0%|          | 0.00/402 [00:00<?, ?B/s]"
      ]
     },
     "metadata": {},
     "output_type": "display_data"
    },
    {
     "data": {
      "application/vnd.jupyter.widget-view+json": {
       "model_id": "7a4e89b973464a8f819afe55ecf48516",
       "version_major": 2,
       "version_minor": 0
      },
      "text/plain": [
       "sentencepiece.bpe.model:   0%|          | 0.00/5.07M [00:00<?, ?B/s]"
      ]
     },
     "metadata": {},
     "output_type": "display_data"
    },
    {
     "data": {
      "application/vnd.jupyter.widget-view+json": {
       "model_id": "3c432527438a41138742eedee1f7eae8",
       "version_major": 2,
       "version_minor": 0
      },
      "text/plain": [
       "tokenizer.json: 0.00B [00:00, ?B/s]"
      ]
     },
     "metadata": {},
     "output_type": "display_data"
    },
    {
     "data": {
      "application/vnd.jupyter.widget-view+json": {
       "model_id": "044e44677d224c4ca564deb4f52ec3cd",
       "version_major": 2,
       "version_minor": 0
      },
      "text/plain": [
       "special_tokens_map.json:   0%|          | 0.00/239 [00:00<?, ?B/s]"
      ]
     },
     "metadata": {},
     "output_type": "display_data"
    },
    {
     "data": {
      "application/vnd.jupyter.widget-view+json": {
       "model_id": "a11148e797264068b73ca1ba168d8591",
       "version_major": 2,
       "version_minor": 0
      },
      "text/plain": [
       "config.json:   0%|          | 0.00/190 [00:00<?, ?B/s]"
      ]
     },
     "metadata": {},
     "output_type": "display_data"
    }
   ],
   "source": [
    "# Inicialización del modelo\n",
    "device = \"cuda\" if torch.cuda.is_available() else \"cpu\"\n",
    "model = SentenceTransformer(\"paraphrase-multilingual-mpnet-base-v2\", device=device)\n",
    "model.max_seq_length = 512"
   ]
  },
  {
   "cell_type": "code",
   "execution_count": 13,
   "metadata": {
    "execution": {
     "iopub.execute_input": "2025-09-09T16:37:48.204990Z",
     "iopub.status.busy": "2025-09-09T16:37:48.204732Z",
     "iopub.status.idle": "2025-09-09T16:57:03.380322Z",
     "shell.execute_reply": "2025-09-09T16:57:03.379543Z",
     "shell.execute_reply.started": "2025-09-09T16:37:48.204964Z"
    }
   },
   "outputs": [
    {
     "data": {
      "application/vnd.jupyter.widget-view+json": {
       "model_id": "f475849a9b744323a26e1c2f6fa127f9",
       "version_major": 2,
       "version_minor": 0
      },
      "text/plain": [
       "Batches:   0%|          | 0/126 [00:00<?, ?it/s]"
      ]
     },
     "metadata": {},
     "output_type": "display_data"
    }
   ],
   "source": [
    "E = model.encode(df_topics_expl[\"representative_docs\"], batch_size=512,\n",
    "                 normalize_embeddings=True, show_progress_bar=True)"
   ]
  },
  {
   "cell_type": "code",
   "execution_count": 14,
   "metadata": {
    "execution": {
     "iopub.execute_input": "2025-09-09T16:57:03.382240Z",
     "iopub.status.busy": "2025-09-09T16:57:03.381950Z",
     "iopub.status.idle": "2025-09-09T16:57:03.386813Z",
     "shell.execute_reply": "2025-09-09T16:57:03.386120Z",
     "shell.execute_reply.started": "2025-09-09T16:57:03.382218Z"
    }
   },
   "outputs": [
    {
     "data": {
      "text/plain": [
       "(64228, 768)"
      ]
     },
     "execution_count": 14,
     "metadata": {},
     "output_type": "execute_result"
    }
   ],
   "source": [
    "E.shape"
   ]
  },
  {
   "cell_type": "code",
   "execution_count": 16,
   "metadata": {
    "execution": {
     "iopub.execute_input": "2025-09-09T17:02:14.435056Z",
     "iopub.status.busy": "2025-09-09T17:02:14.434247Z",
     "iopub.status.idle": "2025-09-09T17:02:14.765110Z",
     "shell.execute_reply": "2025-09-09T17:02:14.764545Z",
     "shell.execute_reply.started": "2025-09-09T17:02:14.435027Z"
    }
   },
   "outputs": [],
   "source": [
    "# Guardar los embeddings\n",
    "with open(\"../data/embeddings.pkl\", \"wb\") as f:\n",
    "    pickle.dump(E, f)"
   ]
  }
 ],
 "metadata": {
  "kaggle": {
   "accelerator": "nvidiaTeslaT4",
   "dataSources": [
    {
     "datasetId": 7538052,
     "sourceId": 11985106,
     "sourceType": "datasetVersion"
    }
   ],
   "dockerImageVersionId": 31090,
   "isGpuEnabled": true,
   "isInternetEnabled": true,
   "language": "python",
   "sourceType": "notebook"
  },
  "kernelspec": {
   "display_name": "Python 3 (ipykernel)",
   "language": "python",
   "name": "python3"
  },
  "language_info": {
   "codemirror_mode": {
    "name": "ipython",
    "version": 3
   },
   "file_extension": ".py",
   "mimetype": "text/x-python",
   "name": "python",
   "nbconvert_exporter": "python",
   "pygments_lexer": "ipython3",
   "version": "3.10.12"
  }
 },
 "nbformat": 4,
 "nbformat_minor": 4
}
