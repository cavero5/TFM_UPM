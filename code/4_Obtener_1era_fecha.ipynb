{
 "cells": [
  {
   "cell_type": "markdown",
   "id": "9aa849eb-e120-4c11-afc8-921189bd9069",
   "metadata": {},
   "source": [
    "# Obtener el primera fecha por canal y cluster"
   ]
  },
  {
   "cell_type": "markdown",
   "id": "158afbac-d61b-49ad-a7d5-aa633a9c74e2",
   "metadata": {},
   "source": [
    "## Carga de librerías necesarias"
   ]
  },
  {
   "cell_type": "code",
   "execution_count": 1,
   "id": "d190b23a-c1ec-4fd1-bf55-7d457c92aa19",
   "metadata": {},
   "outputs": [],
   "source": [
    "from dotenv import load_dotenv\n",
    "from ast import literal_eval\n",
    "from motor.motor_asyncio import AsyncIOMotorClient\n",
    "from tqdm.asyncio import tqdm_asyncio  # barra de progreso asíncrona\n",
    "\n",
    "import os\n",
    "import asyncio\n",
    "import pandas as pd"
   ]
  },
  {
   "cell_type": "markdown",
   "id": "5898463e-e2e8-4eff-b447-a8076d167d5e",
   "metadata": {},
   "source": [
    "## Conexión BD"
   ]
  },
  {
   "cell_type": "code",
   "execution_count": 3,
   "id": "08229412-aef0-4114-9d95-00e0911bd01c",
   "metadata": {},
   "outputs": [
    {
     "name": "stdout",
     "output_type": "stream",
     "text": [
      "Conexión exitosa a MongoDB\n"
     ]
    }
   ],
   "source": [
    "# Cargar las variables desde el archivo .env.mongo\n",
    "load_dotenv(dotenv_path=\"../.env.mongo\")\n",
    "\n",
    "# Leer las variables de entorno\n",
    "user = os.getenv(\"MONGO_USER\")\n",
    "password = os.getenv(\"MONGO_PASSWORD\")\n",
    "host = os.getenv(\"MONGO_HOST\")\n",
    "port = os.getenv(\"MONGO_PORT\")\n",
    "\n",
    "# Cliente de conexión a MongoDB\n",
    "mongo_url = f\"mongodb://{user}:{password}@{host}:{port}/?authSource=admin\"\n",
    "client = AsyncIOMotorClient(mongo_url)\n",
    "\n",
    "# Verificar conexión\n",
    "try:\n",
    "    client.admin.command(\"ping\")\n",
    "    print(\"Conexión exitosa a MongoDB\")\n",
    "\n",
    "except Exception as e:\n",
    "    print(\"Error de conexión:\", e)"
   ]
  },
  {
   "cell_type": "code",
   "execution_count": 4,
   "id": "b5fb9381-122a-4af8-99e9-0a435c72dfb8",
   "metadata": {},
   "outputs": [],
   "source": [
    "db = client[\"tg_channels_cositas\"]"
   ]
  },
  {
   "cell_type": "markdown",
   "id": "9341d3e6-3331-4613-88fb-648145a31468",
   "metadata": {},
   "source": [
    "## Carga de datos de meta-tópicos"
   ]
  },
  {
   "cell_type": "code",
   "execution_count": 5,
   "id": "c1ed5a67-8758-4fba-8a4f-565d04d99554",
   "metadata": {},
   "outputs": [
    {
     "data": {
      "text/html": [
       "<div>\n",
       "<style scoped>\n",
       "    .dataframe tbody tr th:only-of-type {\n",
       "        vertical-align: middle;\n",
       "    }\n",
       "\n",
       "    .dataframe tbody tr th {\n",
       "        vertical-align: top;\n",
       "    }\n",
       "\n",
       "    .dataframe thead th {\n",
       "        text-align: right;\n",
       "    }\n",
       "</style>\n",
       "<table border=\"1\" class=\"dataframe\">\n",
       "  <thead>\n",
       "    <tr style=\"text-align: right;\">\n",
       "      <th></th>\n",
       "      <th>tid</th>\n",
       "      <th>representative_docs</th>\n",
       "      <th>cluster</th>\n",
       "      <th>cluster_prob</th>\n",
       "    </tr>\n",
       "  </thead>\n",
       "  <tbody>\n",
       "    <tr>\n",
       "      <th>0</th>\n",
       "      <td>0</td>\n",
       "      <td>estracto de la agencia europea del medicamento...</td>\n",
       "      <td>0</td>\n",
       "      <td>0.121201</td>\n",
       "    </tr>\n",
       "    <tr>\n",
       "      <th>1</th>\n",
       "      <td>0</td>\n",
       "      <td>\" si me vacunan: 1 . - ¿ puedo dejar de usar l...</td>\n",
       "      <td>0</td>\n",
       "      <td>0.068394</td>\n",
       "    </tr>\n",
       "    <tr>\n",
       "      <th>2</th>\n",
       "      <td>0</td>\n",
       "      <td>buenos días la ema avisa de que la segunda do...</td>\n",
       "      <td>0</td>\n",
       "      <td>0.092112</td>\n",
       "    </tr>\n",
       "    <tr>\n",
       "      <th>3</th>\n",
       "      <td>1</td>\n",
       "      <td>los viajes espaciales, la creacion de una pand...</td>\n",
       "      <td>-1</td>\n",
       "      <td>0.522919</td>\n",
       "    </tr>\n",
       "    <tr>\n",
       "      <th>4</th>\n",
       "      <td>1</td>\n",
       "      <td>2011...este articulo del periodico sovereign i...</td>\n",
       "      <td>-1</td>\n",
       "      <td>0.141489</td>\n",
       "    </tr>\n",
       "  </tbody>\n",
       "</table>\n",
       "</div>"
      ],
      "text/plain": [
       "   tid                                representative_docs  cluster  \\\n",
       "0    0  estracto de la agencia europea del medicamento...        0   \n",
       "1    0  \" si me vacunan: 1 . - ¿ puedo dejar de usar l...        0   \n",
       "2    0  buenos días la ema avisa de que la segunda do...        0   \n",
       "3    1  los viajes espaciales, la creacion de una pand...       -1   \n",
       "4    1  2011...este articulo del periodico sovereign i...       -1   \n",
       "\n",
       "   cluster_prob  \n",
       "0      0.121201  \n",
       "1      0.068394  \n",
       "2      0.092112  \n",
       "3      0.522919  \n",
       "4      0.141489  "
      ]
     },
     "execution_count": 5,
     "metadata": {},
     "output_type": "execute_result"
    }
   ],
   "source": [
    "macrot_df = pd.read_csv(\"../data/meta_topics.csv\")\n",
    "macrot_df.head().iloc[:, 1:]"
   ]
  },
  {
   "cell_type": "code",
   "execution_count": 6,
   "id": "e67b9988-f574-45fa-8de4-c6be77b94b26",
   "metadata": {},
   "outputs": [
    {
     "name": "stdout",
     "output_type": "stream",
     "text": [
      "(64228, 5)\n"
     ]
    }
   ],
   "source": [
    "print(macrot_df.shape)"
   ]
  },
  {
   "cell_type": "code",
   "execution_count": 7,
   "id": "da0f3e1b-44a8-423f-94fc-13f19e50a551",
   "metadata": {},
   "outputs": [
    {
     "name": "stdout",
     "output_type": "stream",
     "text": [
      "(32707, 5)\n"
     ]
    }
   ],
   "source": [
    "macrot_df = macrot_df[macrot_df[\"cluster\"] != -1]\n",
    "print(macrot_df.shape)"
   ]
  },
  {
   "cell_type": "code",
   "execution_count": 8,
   "id": "471011fd-af67-4b26-afb6-c8aaa4c0a294",
   "metadata": {},
   "outputs": [
    {
     "name": "stderr",
     "output_type": "stream",
     "text": [
      "Procesando colecciones: 100%|██████████| 5808/5808 [1:01:17<00:00,  1.58it/s]\n"
     ]
    }
   ],
   "source": [
    "# dict {(_id, cluster): [tid1, tid2, …]}\n",
    "col_tids = (\n",
    "    macrot_df\n",
    "    .groupby(['_id', 'cluster'])['tid']\n",
    "    .unique()\n",
    "    .to_dict()\n",
    ")\n",
    "\n",
    "async def procesar_coleccion(collection_name, cluster_id, tids, batch_size=1000):\n",
    "    coll = db[collection_name]\n",
    "    out = []\n",
    "    for i in range(0, len(tids), batch_size):\n",
    "        batch = [int(t) for t in tids[i:i+batch_size]]\n",
    "        pipeline = [\n",
    "            {'$match': {'topic_id': {'$in': batch}}},\n",
    "            {'$group': {\n",
    "                '_id': '$topic_id',\n",
    "                'earliest_date': {'$min': '$date'}\n",
    "            }}\n",
    "        ]\n",
    "        cursor = coll.aggregate(pipeline, allowDiskUse=True)\n",
    "        async for doc in cursor:\n",
    "            out.append({\n",
    "                '_id': collection_name,\n",
    "                'cluster':     cluster_id,\n",
    "                'tid':         doc['_id'],\n",
    "                'earliest_date': pd.to_datetime(doc['earliest_date'])\n",
    "            })\n",
    "    return out\n",
    "\n",
    "async def main():\n",
    "    tasks = [\n",
    "        procesar_coleccion(col_name, cluster, tids)\n",
    "        for (col_name, cluster), tids in col_tids.items()\n",
    "    ]\n",
    "    results = []\n",
    "    for coro in tqdm_asyncio.as_completed(tasks, total=len(tasks),\n",
    "                                          desc=\"Procesando colecciones\"):\n",
    "        results.extend(await coro)\n",
    "    return results\n",
    "\n",
    "# Ejecuta el loop\n",
    "results = await main()"
   ]
  },
  {
   "cell_type": "code",
   "execution_count": 18,
   "id": "cb49cc44-0b02-4e39-a557-907a7131078f",
   "metadata": {},
   "outputs": [],
   "source": [
    "# Unión con el df de meta-tópicos\n",
    "earliest_df = pd.DataFrame(results).drop(columns=[\"tid\"])\n",
    "macrot_df = macrot_df.merge(earliest_df, on=['_id', 'cluster'], how='left')"
   ]
  },
  {
   "cell_type": "code",
   "execution_count": 19,
   "id": "b64ef195-90d6-4ef2-8419-766907c365fd",
   "metadata": {},
   "outputs": [
    {
     "data": {
      "text/plain": [
       "count                                 858743\n",
       "mean     2021-11-15 11:35:14.466894592+00:00\n",
       "min                2016-07-07 17:09:19+00:00\n",
       "25%                2021-04-04 18:52:26+00:00\n",
       "50%                2021-12-14 22:00:15+00:00\n",
       "75%                2022-08-21 19:02:13+00:00\n",
       "max                2024-03-03 13:21:36+00:00\n",
       "Name: earliest_date, dtype: object"
      ]
     },
     "execution_count": 19,
     "metadata": {},
     "output_type": "execute_result"
    }
   ],
   "source": [
    "macrot_df[\"earliest_date\"].describe()"
   ]
  },
  {
   "cell_type": "code",
   "execution_count": 20,
   "id": "30f3f310-9390-4b4c-a5c4-32f01165d859",
   "metadata": {},
   "outputs": [],
   "source": [
    "macrot_df.to_csv(\"../data/metat_tiempos.csv\", index=False)"
   ]
  },
  {
   "cell_type": "code",
   "execution_count": 23,
   "id": "4eff9c3e-792f-4ae9-9f80-899301fcb264",
   "metadata": {},
   "outputs": [
    {
     "data": {
      "text/html": [
       "<div>\n",
       "<style scoped>\n",
       "    .dataframe tbody tr th:only-of-type {\n",
       "        vertical-align: middle;\n",
       "    }\n",
       "\n",
       "    .dataframe tbody tr th {\n",
       "        vertical-align: top;\n",
       "    }\n",
       "\n",
       "    .dataframe thead th {\n",
       "        text-align: right;\n",
       "    }\n",
       "</style>\n",
       "<table border=\"1\" class=\"dataframe\">\n",
       "  <thead>\n",
       "    <tr style=\"text-align: right;\">\n",
       "      <th></th>\n",
       "      <th>cascade_id</th>\n",
       "      <th>earliest_date</th>\n",
       "    </tr>\n",
       "  </thead>\n",
       "  <tbody>\n",
       "    <tr>\n",
       "      <th>439847</th>\n",
       "      <td>0</td>\n",
       "      <td>2016-11-30 11:39:51+00:00</td>\n",
       "    </tr>\n",
       "    <tr>\n",
       "      <th>439854</th>\n",
       "      <td>0</td>\n",
       "      <td>2016-11-30 11:39:51+00:00</td>\n",
       "    </tr>\n",
       "    <tr>\n",
       "      <th>439861</th>\n",
       "      <td>0</td>\n",
       "      <td>2016-11-30 11:39:51+00:00</td>\n",
       "    </tr>\n",
       "    <tr>\n",
       "      <th>439868</th>\n",
       "      <td>0</td>\n",
       "      <td>2016-11-30 11:39:51+00:00</td>\n",
       "    </tr>\n",
       "    <tr>\n",
       "      <th>439875</th>\n",
       "      <td>0</td>\n",
       "      <td>2016-11-30 11:39:51+00:00</td>\n",
       "    </tr>\n",
       "  </tbody>\n",
       "</table>\n",
       "</div>"
      ],
      "text/plain": [
       "        cascade_id             earliest_date\n",
       "439847           0 2016-11-30 11:39:51+00:00\n",
       "439854           0 2016-11-30 11:39:51+00:00\n",
       "439861           0 2016-11-30 11:39:51+00:00\n",
       "439868           0 2016-11-30 11:39:51+00:00\n",
       "439875           0 2016-11-30 11:39:51+00:00"
      ]
     },
     "execution_count": 23,
     "metadata": {},
     "output_type": "execute_result"
    }
   ],
   "source": [
    "df_netinf = macrot_df[[\"_id\", \"cluster\", \"earliest_date\"]]\n",
    "df_netinf = df_netinf.rename(columns={\n",
    "    'cluster': 'cascade_id',\n",
    "    'rep_docs_dates': 'event_time',\n",
    "    '_id': 'node_name'\n",
    "})\n",
    "df_netinf.head().iloc[:, 1:]"
   ]
  },
  {
   "cell_type": "code",
   "execution_count": 24,
   "id": "e683e1e1-89b4-4e4f-ac57-6923db124f85",
   "metadata": {},
   "outputs": [
    {
     "data": {
      "text/html": [
       "<div>\n",
       "<style scoped>\n",
       "    .dataframe tbody tr th:only-of-type {\n",
       "        vertical-align: middle;\n",
       "    }\n",
       "\n",
       "    .dataframe tbody tr th {\n",
       "        vertical-align: top;\n",
       "    }\n",
       "\n",
       "    .dataframe thead th {\n",
       "        text-align: right;\n",
       "    }\n",
       "</style>\n",
       "<table border=\"1\" class=\"dataframe\">\n",
       "  <thead>\n",
       "    <tr style=\"text-align: right;\">\n",
       "      <th></th>\n",
       "      <th>cascade_id</th>\n",
       "      <th>earliest_date</th>\n",
       "    </tr>\n",
       "  </thead>\n",
       "  <tbody>\n",
       "    <tr>\n",
       "      <th>439847</th>\n",
       "      <td>0</td>\n",
       "      <td>2016-11-30 11:39:51+00:00</td>\n",
       "    </tr>\n",
       "    <tr>\n",
       "      <th>439854</th>\n",
       "      <td>0</td>\n",
       "      <td>2016-11-30 11:39:51+00:00</td>\n",
       "    </tr>\n",
       "    <tr>\n",
       "      <th>439861</th>\n",
       "      <td>0</td>\n",
       "      <td>2016-11-30 11:39:51+00:00</td>\n",
       "    </tr>\n",
       "    <tr>\n",
       "      <th>439868</th>\n",
       "      <td>0</td>\n",
       "      <td>2016-11-30 11:39:51+00:00</td>\n",
       "    </tr>\n",
       "    <tr>\n",
       "      <th>439875</th>\n",
       "      <td>0</td>\n",
       "      <td>2016-11-30 11:39:51+00:00</td>\n",
       "    </tr>\n",
       "  </tbody>\n",
       "</table>\n",
       "</div>"
      ],
      "text/plain": [
       "        cascade_id             earliest_date\n",
       "439847           0 2016-11-30 11:39:51+00:00\n",
       "439854           0 2016-11-30 11:39:51+00:00\n",
       "439861           0 2016-11-30 11:39:51+00:00\n",
       "439868           0 2016-11-30 11:39:51+00:00\n",
       "439875           0 2016-11-30 11:39:51+00:00"
      ]
     },
     "execution_count": 24,
     "metadata": {},
     "output_type": "execute_result"
    }
   ],
   "source": [
    "# Ordenar el DataFrame por cascada y tiempo de evento\n",
    "df_netinf = df_netinf.sort_values(['cascade_id', 'earliest_date'])\n",
    "df_netinf.head().iloc[:, 1:]"
   ]
  },
  {
   "cell_type": "code",
   "execution_count": 26,
   "id": "6815104a-05e0-4ef7-94a4-9b26dbc9182b",
   "metadata": {},
   "outputs": [
    {
     "data": {
      "text/html": [
       "<div>\n",
       "<style scoped>\n",
       "    .dataframe tbody tr th:only-of-type {\n",
       "        vertical-align: middle;\n",
       "    }\n",
       "\n",
       "    .dataframe tbody tr th {\n",
       "        vertical-align: top;\n",
       "    }\n",
       "\n",
       "    .dataframe thead th {\n",
       "        text-align: right;\n",
       "    }\n",
       "</style>\n",
       "<table border=\"1\" class=\"dataframe\">\n",
       "  <thead>\n",
       "    <tr style=\"text-align: right;\">\n",
       "      <th></th>\n",
       "      <th>cascade_id</th>\n",
       "      <th>earliest_date</th>\n",
       "    </tr>\n",
       "  </thead>\n",
       "  <tbody>\n",
       "    <tr>\n",
       "      <th>0</th>\n",
       "      <td>0</td>\n",
       "      <td>2016-11-30 11:39:51+00:00</td>\n",
       "    </tr>\n",
       "    <tr>\n",
       "      <th>1</th>\n",
       "      <td>0</td>\n",
       "      <td>2018-02-07 05:29:56+00:00</td>\n",
       "    </tr>\n",
       "    <tr>\n",
       "      <th>2</th>\n",
       "      <td>0</td>\n",
       "      <td>2018-05-30 06:46:46+00:00</td>\n",
       "    </tr>\n",
       "    <tr>\n",
       "      <th>3</th>\n",
       "      <td>0</td>\n",
       "      <td>2018-06-06 00:25:52+00:00</td>\n",
       "    </tr>\n",
       "    <tr>\n",
       "      <th>4</th>\n",
       "      <td>0</td>\n",
       "      <td>2018-07-03 15:13:56+00:00</td>\n",
       "    </tr>\n",
       "  </tbody>\n",
       "</table>\n",
       "</div>"
      ],
      "text/plain": [
       "   cascade_id             earliest_date\n",
       "0           0 2016-11-30 11:39:51+00:00\n",
       "1           0 2018-02-07 05:29:56+00:00\n",
       "2           0 2018-05-30 06:46:46+00:00\n",
       "3           0 2018-06-06 00:25:52+00:00\n",
       "4           0 2018-07-03 15:13:56+00:00"
      ]
     },
     "execution_count": 26,
     "metadata": {},
     "output_type": "execute_result"
    }
   ],
   "source": [
    "df_netinf = (\n",
    "    df_netinf\n",
    "    .groupby(['node_name', 'cascade_id'], as_index=False)\n",
    "    ['earliest_date']\n",
    "    .min()\n",
    "    .sort_values(['cascade_id', 'earliest_date'])\n",
    "    .reset_index(drop=True)\n",
    ")\n",
    "df_netinf.head().iloc[:, 1:]"
   ]
  },
  {
   "cell_type": "code",
   "execution_count": 27,
   "id": "c7c45ec3-a0c1-4d5e-9b6c-1b89a81f7aa8",
   "metadata": {},
   "outputs": [
    {
     "data": {
      "text/plain": [
       "(5808, 3)"
      ]
     },
     "execution_count": 27,
     "metadata": {},
     "output_type": "execute_result"
    }
   ],
   "source": [
    "df_netinf.shape"
   ]
  },
  {
   "cell_type": "code",
   "execution_count": 28,
   "id": "db5eb739-32f9-4d52-b508-ab18f3c00379",
   "metadata": {},
   "outputs": [],
   "source": [
    "df_netinf.to_csv(\"../data/netinf_data.csv\", index=False)"
   ]
  }
 ],
 "metadata": {
  "kernelspec": {
   "display_name": "Python 3 (ipykernel)",
   "language": "python",
   "name": "python3"
  },
  "language_info": {
   "codemirror_mode": {
    "name": "ipython",
    "version": 3
   },
   "file_extension": ".py",
   "mimetype": "text/x-python",
   "name": "python",
   "nbconvert_exporter": "python",
   "pygments_lexer": "ipython3",
   "version": "3.10.12"
  }
 },
 "nbformat": 4,
 "nbformat_minor": 5
}
