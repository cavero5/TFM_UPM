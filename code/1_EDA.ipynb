{
 "cells": [
  {
   "cell_type": "markdown",
   "metadata": {
    "id": "JRYL_kwOvRA9"
   },
   "source": [
    "# EDA"
   ]
  },
  {
   "cell_type": "markdown",
   "metadata": {},
   "source": [
    "## Carga de librerías necesarias"
   ]
  },
  {
   "cell_type": "code",
   "execution_count": 1,
   "metadata": {},
   "outputs": [],
   "source": [
    "from ast import literal_eval\n",
    "\n",
    "import pandas as pd"
   ]
  },
  {
   "cell_type": "markdown",
   "metadata": {
    "id": "QCLMveeCvRBE"
   },
   "source": [
    "## DataFrame de los canales\n",
    "\n",
    "Cada fila representa un canal."
   ]
  },
  {
   "cell_type": "code",
   "execution_count": 2,
   "metadata": {
    "colab": {
     "base_uri": "https://localhost:8080/",
     "height": 311
    },
    "id": "hlBrn4xIvRBF",
    "outputId": "1a2739da-0291-4713-81e0-41aae2372fe8"
   },
   "outputs": [
    {
     "name": "stdout",
     "output_type": "stream",
     "text": [
      "(404, 6)\n"
     ]
    },
    {
     "data": {
      "text/html": [
       "<div>\n",
       "<style scoped>\n",
       "    .dataframe tbody tr th:only-of-type {\n",
       "        vertical-align: middle;\n",
       "    }\n",
       "\n",
       "    .dataframe tbody tr th {\n",
       "        vertical-align: top;\n",
       "    }\n",
       "\n",
       "    .dataframe thead th {\n",
       "        text-align: right;\n",
       "    }\n",
       "</style>\n",
       "<table border=\"1\" class=\"dataframe\">\n",
       "  <thead>\n",
       "    <tr style=\"text-align: right;\">\n",
       "      <th></th>\n",
       "      <th>total_documents</th>\n",
       "      <th>total_cleaned_texts</th>\n",
       "      <th>language_counts</th>\n",
       "      <th>topic_metrics</th>\n",
       "      <th>topics</th>\n",
       "    </tr>\n",
       "  </thead>\n",
       "  <tbody>\n",
       "    <tr>\n",
       "      <th>0</th>\n",
       "      <td>6139</td>\n",
       "      <td>2496</td>\n",
       "      <td>[{'_id': 'SPANISH', 'count': 4495}, {'_id': 'P...</td>\n",
       "      <td>{'similarity': 0.36375413669217904, 'noise': 0...</td>\n",
       "      <td>[{'tid': 0, 'n_messages': 111, 'description': ...</td>\n",
       "    </tr>\n",
       "    <tr>\n",
       "      <th>1</th>\n",
       "      <td>4622</td>\n",
       "      <td>3686</td>\n",
       "      <td>[{'_id': 'ENGLISH', 'count': 4241}, {'_id': 'L...</td>\n",
       "      <td>{'similarity': 0.369337386184171, 'noise': 0.4...</td>\n",
       "      <td>[{'tid': 0, 'n_messages': 171, 'description': ...</td>\n",
       "    </tr>\n",
       "    <tr>\n",
       "      <th>2</th>\n",
       "      <td>479</td>\n",
       "      <td>264</td>\n",
       "      <td>[{'_id': 'SPANISH', 'count': 327}, {'_id': 'EN...</td>\n",
       "      <td>{'similarity': 0.212316362834281, 'noise': 0.5...</td>\n",
       "      <td>[{'tid': 0, 'n_messages': 66, 'description': '...</td>\n",
       "    </tr>\n",
       "    <tr>\n",
       "      <th>3</th>\n",
       "      <td>157</td>\n",
       "      <td>150</td>\n",
       "      <td>[{'_id': 'ENGLISH', 'count': 155}]</td>\n",
       "      <td>{'similarity': 0.187268570707492, 'noise': 0.1...</td>\n",
       "      <td>[{'tid': 0, 'n_messages': 100, 'description': ...</td>\n",
       "    </tr>\n",
       "    <tr>\n",
       "      <th>4</th>\n",
       "      <td>2895</td>\n",
       "      <td>2605</td>\n",
       "      <td>[{'_id': 'LITHUANIAN', 'count': 2863}, {'_id':...</td>\n",
       "      <td>{'similarity': 0.375353056952453, 'noise': 0.6...</td>\n",
       "      <td>[{'tid': 0, 'n_messages': 123, 'description': ...</td>\n",
       "    </tr>\n",
       "  </tbody>\n",
       "</table>\n",
       "</div>"
      ],
      "text/plain": [
       "   total_documents  total_cleaned_texts  \\\n",
       "0             6139                 2496   \n",
       "1             4622                 3686   \n",
       "2              479                  264   \n",
       "3              157                  150   \n",
       "4             2895                 2605   \n",
       "\n",
       "                                     language_counts  \\\n",
       "0  [{'_id': 'SPANISH', 'count': 4495}, {'_id': 'P...   \n",
       "1  [{'_id': 'ENGLISH', 'count': 4241}, {'_id': 'L...   \n",
       "2  [{'_id': 'SPANISH', 'count': 327}, {'_id': 'EN...   \n",
       "3                 [{'_id': 'ENGLISH', 'count': 155}]   \n",
       "4  [{'_id': 'LITHUANIAN', 'count': 2863}, {'_id':...   \n",
       "\n",
       "                                       topic_metrics  \\\n",
       "0  {'similarity': 0.36375413669217904, 'noise': 0...   \n",
       "1  {'similarity': 0.369337386184171, 'noise': 0.4...   \n",
       "2  {'similarity': 0.212316362834281, 'noise': 0.5...   \n",
       "3  {'similarity': 0.187268570707492, 'noise': 0.1...   \n",
       "4  {'similarity': 0.375353056952453, 'noise': 0.6...   \n",
       "\n",
       "                                              topics  \n",
       "0  [{'tid': 0, 'n_messages': 111, 'description': ...  \n",
       "1  [{'tid': 0, 'n_messages': 171, 'description': ...  \n",
       "2  [{'tid': 0, 'n_messages': 66, 'description': '...  \n",
       "3  [{'tid': 0, 'n_messages': 100, 'description': ...  \n",
       "4  [{'tid': 0, 'n_messages': 123, 'description': ...  "
      ]
     },
     "execution_count": 2,
     "metadata": {},
     "output_type": "execute_result"
    }
   ],
   "source": [
    "data_path = '../data/_META_collection.json'\n",
    "df = pd.read_json(data_path)\n",
    "print(df.shape)\n",
    "df.head().iloc[:, 1:]"
   ]
  },
  {
   "cell_type": "markdown",
   "metadata": {
    "id": "2-SVXJkBvRBG"
   },
   "source": [
    "## DataFrame de idiomas"
   ]
  },
  {
   "cell_type": "code",
   "execution_count": 3,
   "metadata": {
    "colab": {
     "base_uri": "https://localhost:8080/",
     "height": 206
    },
    "id": "ZQ4XWBeivRBG",
    "outputId": "55eb7c56-630e-46ce-f90c-7aa0c792924f"
   },
   "outputs": [
    {
     "data": {
      "text/html": [
       "<div>\n",
       "<style scoped>\n",
       "    .dataframe tbody tr th:only-of-type {\n",
       "        vertical-align: middle;\n",
       "    }\n",
       "\n",
       "    .dataframe tbody tr th {\n",
       "        vertical-align: top;\n",
       "    }\n",
       "\n",
       "    .dataframe thead th {\n",
       "        text-align: right;\n",
       "    }\n",
       "</style>\n",
       "<table border=\"1\" class=\"dataframe\">\n",
       "  <thead>\n",
       "    <tr style=\"text-align: right;\">\n",
       "      <th></th>\n",
       "      <th>language_counts</th>\n",
       "    </tr>\n",
       "  </thead>\n",
       "  <tbody>\n",
       "    <tr>\n",
       "      <th>0</th>\n",
       "      <td>{'_id': 'SPANISH', 'count': 4495}</td>\n",
       "    </tr>\n",
       "    <tr>\n",
       "      <th>0</th>\n",
       "      <td>{'_id': 'PORTUGUESE', 'count': 49}</td>\n",
       "    </tr>\n",
       "    <tr>\n",
       "      <th>0</th>\n",
       "      <td>{'_id': 'ENGLISH', 'count': 38}</td>\n",
       "    </tr>\n",
       "    <tr>\n",
       "      <th>0</th>\n",
       "      <td>{'_id': 'LATIN', 'count': 23}</td>\n",
       "    </tr>\n",
       "    <tr>\n",
       "      <th>0</th>\n",
       "      <td>{'_id': 'ITALIAN', 'count': 14}</td>\n",
       "    </tr>\n",
       "  </tbody>\n",
       "</table>\n",
       "</div>"
      ],
      "text/plain": [
       "                      language_counts\n",
       "0   {'_id': 'SPANISH', 'count': 4495}\n",
       "0  {'_id': 'PORTUGUESE', 'count': 49}\n",
       "0     {'_id': 'ENGLISH', 'count': 38}\n",
       "0       {'_id': 'LATIN', 'count': 23}\n",
       "0     {'_id': 'ITALIAN', 'count': 14}"
      ]
     },
     "execution_count": 3,
     "metadata": {},
     "output_type": "execute_result"
    }
   ],
   "source": [
    "df_languages = df[[\"_id\", \"language_counts\"]].rename(columns={\"_id\": \"channel_id\"})\n",
    "df_languages = df_languages.explode(\"language_counts\")\n",
    "df_languages.head().iloc[:, 1:]"
   ]
  },
  {
   "cell_type": "code",
   "execution_count": 4,
   "metadata": {
    "colab": {
     "base_uri": "https://localhost:8080/",
     "height": 206
    },
    "id": "vDIPT_divRBH",
    "outputId": "d85fa313-7728-4e12-9a20-165d06e939e4"
   },
   "outputs": [
    {
     "data": {
      "text/html": [
       "<div>\n",
       "<style scoped>\n",
       "    .dataframe tbody tr th:only-of-type {\n",
       "        vertical-align: middle;\n",
       "    }\n",
       "\n",
       "    .dataframe tbody tr th {\n",
       "        vertical-align: top;\n",
       "    }\n",
       "\n",
       "    .dataframe thead th {\n",
       "        text-align: right;\n",
       "    }\n",
       "</style>\n",
       "<table border=\"1\" class=\"dataframe\">\n",
       "  <thead>\n",
       "    <tr style=\"text-align: right;\">\n",
       "      <th></th>\n",
       "      <th>language</th>\n",
       "      <th>count</th>\n",
       "    </tr>\n",
       "  </thead>\n",
       "  <tbody>\n",
       "    <tr>\n",
       "      <th>0</th>\n",
       "      <td>SPANISH</td>\n",
       "      <td>4495</td>\n",
       "    </tr>\n",
       "    <tr>\n",
       "      <th>1</th>\n",
       "      <td>PORTUGUESE</td>\n",
       "      <td>49</td>\n",
       "    </tr>\n",
       "    <tr>\n",
       "      <th>2</th>\n",
       "      <td>ENGLISH</td>\n",
       "      <td>38</td>\n",
       "    </tr>\n",
       "    <tr>\n",
       "      <th>3</th>\n",
       "      <td>LATIN</td>\n",
       "      <td>23</td>\n",
       "    </tr>\n",
       "    <tr>\n",
       "      <th>4</th>\n",
       "      <td>ITALIAN</td>\n",
       "      <td>14</td>\n",
       "    </tr>\n",
       "  </tbody>\n",
       "</table>\n",
       "</div>"
      ],
      "text/plain": [
       "     language  count\n",
       "0     SPANISH   4495\n",
       "1  PORTUGUESE     49\n",
       "2     ENGLISH     38\n",
       "3       LATIN     23\n",
       "4     ITALIAN     14"
      ]
     },
     "execution_count": 4,
     "metadata": {},
     "output_type": "execute_result"
    }
   ],
   "source": [
    "df_languages[\"language\"] = df_languages[\"language_counts\"].apply(lambda x: x[\"_id\"])\n",
    "df_languages[\"count\"] = df_languages[\"language_counts\"].apply(lambda x: x[\"count\"])\n",
    "df_languages = df_languages.rename(columns={\"channel_id\": \"_id\"})\n",
    "df_languages = df_languages.drop(columns=[\"language_counts\"]).reset_index(drop=True)\n",
    "df_languages.head().iloc[:, 1:]"
   ]
  },
  {
   "cell_type": "code",
   "execution_count": 5,
   "metadata": {},
   "outputs": [
    {
     "name": "stdout",
     "output_type": "stream",
     "text": [
      "73 idiomas diferentes\n"
     ]
    }
   ],
   "source": [
    "print(f\"{df_languages.language.nunique()} idiomas diferentes\")"
   ]
  },
  {
   "cell_type": "code",
   "execution_count": 6,
   "metadata": {
    "colab": {
     "base_uri": "https://localhost:8080/",
     "height": 394
    },
    "id": "pbZGdJDSvRBI",
    "outputId": "8f5b4bc6-496e-4913-8420-7e1a12cddb0e"
   },
   "outputs": [
    {
     "data": {
      "text/html": [
       "<div>\n",
       "<style scoped>\n",
       "    .dataframe tbody tr th:only-of-type {\n",
       "        vertical-align: middle;\n",
       "    }\n",
       "\n",
       "    .dataframe tbody tr th {\n",
       "        vertical-align: top;\n",
       "    }\n",
       "\n",
       "    .dataframe thead th {\n",
       "        text-align: right;\n",
       "    }\n",
       "</style>\n",
       "<table border=\"1\" class=\"dataframe\">\n",
       "  <thead>\n",
       "    <tr style=\"text-align: right;\">\n",
       "      <th></th>\n",
       "      <th>count</th>\n",
       "    </tr>\n",
       "    <tr>\n",
       "      <th>language</th>\n",
       "      <th></th>\n",
       "    </tr>\n",
       "  </thead>\n",
       "  <tbody>\n",
       "    <tr>\n",
       "      <th>ENGLISH</th>\n",
       "      <td>2318202</td>\n",
       "    </tr>\n",
       "    <tr>\n",
       "      <th>TURKISH</th>\n",
       "      <td>1445421</td>\n",
       "    </tr>\n",
       "    <tr>\n",
       "      <th>SPANISH</th>\n",
       "      <td>1299807</td>\n",
       "    </tr>\n",
       "    <tr>\n",
       "      <th>LITHUANIAN</th>\n",
       "      <td>246815</td>\n",
       "    </tr>\n",
       "    <tr>\n",
       "      <th>FRENCH</th>\n",
       "      <td>102690</td>\n",
       "    </tr>\n",
       "    <tr>\n",
       "      <th>GERMAN</th>\n",
       "      <td>85713</td>\n",
       "    </tr>\n",
       "    <tr>\n",
       "      <th>RUSSIAN</th>\n",
       "      <td>46087</td>\n",
       "    </tr>\n",
       "    <tr>\n",
       "      <th>PORTUGUESE</th>\n",
       "      <td>22262</td>\n",
       "    </tr>\n",
       "    <tr>\n",
       "      <th>LATIN</th>\n",
       "      <td>18860</td>\n",
       "    </tr>\n",
       "    <tr>\n",
       "      <th>ITALIAN</th>\n",
       "      <td>12921</td>\n",
       "    </tr>\n",
       "  </tbody>\n",
       "</table>\n",
       "</div>"
      ],
      "text/plain": [
       "              count\n",
       "language           \n",
       "ENGLISH     2318202\n",
       "TURKISH     1445421\n",
       "SPANISH     1299807\n",
       "LITHUANIAN   246815\n",
       "FRENCH       102690\n",
       "GERMAN        85713\n",
       "RUSSIAN       46087\n",
       "PORTUGUESE    22262\n",
       "LATIN         18860\n",
       "ITALIAN       12921"
      ]
     },
     "execution_count": 6,
     "metadata": {},
     "output_type": "execute_result"
    }
   ],
   "source": [
    "# Top 10 idiomas\n",
    "df_languages.groupby([\"language\"]).sum(\"count\").sort_values(\"count\", ascending=False).head(10)"
   ]
  },
  {
   "cell_type": "code",
   "execution_count": 7,
   "metadata": {
    "colab": {
     "base_uri": "https://localhost:8080/",
     "height": 206
    },
    "id": "h2rTO5u9fW1Q",
    "outputId": "4f612702-60d4-4c8b-a66e-a88991341c87"
   },
   "outputs": [
    {
     "data": {
      "text/html": [
       "<div>\n",
       "<style scoped>\n",
       "    .dataframe tbody tr th:only-of-type {\n",
       "        vertical-align: middle;\n",
       "    }\n",
       "\n",
       "    .dataframe tbody tr th {\n",
       "        vertical-align: top;\n",
       "    }\n",
       "\n",
       "    .dataframe thead th {\n",
       "        text-align: right;\n",
       "    }\n",
       "</style>\n",
       "<table border=\"1\" class=\"dataframe\">\n",
       "  <thead>\n",
       "    <tr style=\"text-align: right;\">\n",
       "      <th></th>\n",
       "      <th>language</th>\n",
       "      <th>count</th>\n",
       "    </tr>\n",
       "  </thead>\n",
       "  <tbody>\n",
       "    <tr>\n",
       "      <th>0</th>\n",
       "      <td>ENGLISH</td>\n",
       "      <td>325</td>\n",
       "    </tr>\n",
       "    <tr>\n",
       "      <th>1</th>\n",
       "      <td>ENGLISH</td>\n",
       "      <td>301</td>\n",
       "    </tr>\n",
       "    <tr>\n",
       "      <th>2</th>\n",
       "      <td>ENGLISH</td>\n",
       "      <td>1956</td>\n",
       "    </tr>\n",
       "    <tr>\n",
       "      <th>3</th>\n",
       "      <td>ENGLISH</td>\n",
       "      <td>9253</td>\n",
       "    </tr>\n",
       "    <tr>\n",
       "      <th>4</th>\n",
       "      <td>LITHUANIAN</td>\n",
       "      <td>2700</td>\n",
       "    </tr>\n",
       "  </tbody>\n",
       "</table>\n",
       "</div>"
      ],
      "text/plain": [
       "     language  count\n",
       "0     ENGLISH    325\n",
       "1     ENGLISH    301\n",
       "2     ENGLISH   1956\n",
       "3     ENGLISH   9253\n",
       "4  LITHUANIAN   2700"
      ]
     },
     "execution_count": 7,
     "metadata": {},
     "output_type": "execute_result"
    }
   ],
   "source": [
    "# Encontrar el idioma principal por canal (mayor 'count')\n",
    "idx = df_languages.groupby(\"_id\")[\"count\"].idxmax()\n",
    "df_primary = df_languages.loc[idx].reset_index(drop=True)\n",
    "df_primary.head().iloc[:, 1:]"
   ]
  },
  {
   "cell_type": "code",
   "execution_count": 8,
   "metadata": {
    "colab": {
     "base_uri": "https://localhost:8080/"
    },
    "id": "qbrvSy-3iRQy",
    "outputId": "c3c516d9-5209-4cdf-b53f-967d1b594919"
   },
   "outputs": [
    {
     "name": "stdout",
     "output_type": "stream",
     "text": [
      "Porcentaje de canales cuyo idioma principal es ENGLISH: 48.02%\n",
      "Porcentaje de canales cuyo idioma principal es TURKISH: 21.78%\n",
      "Porcentaje de canales cuyo idioma principal es SPANISH: 18.07%\n"
     ]
    }
   ],
   "source": [
    "for lang in [\"ENGLISH\", \"TURKISH\", \"SPANISH\"]:\n",
    "  # Filtrar los canales cuyo idioma principal es Inglés, Turco o Español\n",
    "  filtered_channels = df_primary[df_primary[\"language\"].isin([lang])]\n",
    "\n",
    "  # Calcular el porcentaje de canales cuyo idioma principal es el especificado\n",
    "  total_channels = len(df_primary)\n",
    "  percentage = (len(filtered_channels) / total_channels) * 100\n",
    "  print(f\"Porcentaje de canales cuyo idioma principal es {lang}: {percentage:.2f}%\")"
   ]
  },
  {
   "cell_type": "markdown",
   "metadata": {
    "id": "b5q2m1UCvRBJ"
   },
   "source": [
    "## DataFrame de métricas sobre los tópicos"
   ]
  },
  {
   "cell_type": "code",
   "execution_count": 9,
   "metadata": {
    "colab": {
     "base_uri": "https://localhost:8080/",
     "height": 206
    },
    "id": "94m6RFQUvRBK",
    "outputId": "9334c998-ab84-40e5-d300-0440314687ae"
   },
   "outputs": [
    {
     "data": {
      "text/html": [
       "<div>\n",
       "<style scoped>\n",
       "    .dataframe tbody tr th:only-of-type {\n",
       "        vertical-align: middle;\n",
       "    }\n",
       "\n",
       "    .dataframe tbody tr th {\n",
       "        vertical-align: top;\n",
       "    }\n",
       "\n",
       "    .dataframe thead th {\n",
       "        text-align: right;\n",
       "    }\n",
       "</style>\n",
       "<table border=\"1\" class=\"dataframe\">\n",
       "  <thead>\n",
       "    <tr style=\"text-align: right;\">\n",
       "      <th></th>\n",
       "      <th>similarity</th>\n",
       "      <th>noise</th>\n",
       "      <th>n_topics</th>\n",
       "      <th>topic_sizes</th>\n",
       "      <th>n_valid_topics</th>\n",
       "    </tr>\n",
       "  </thead>\n",
       "  <tbody>\n",
       "    <tr>\n",
       "      <th>0</th>\n",
       "      <td>0.363754</td>\n",
       "      <td>0.490385</td>\n",
       "      <td>26</td>\n",
       "      <td>[111, 106, 85, 65, 63, 60, 59, 58, 55, 54, 54,...</td>\n",
       "      <td>1</td>\n",
       "    </tr>\n",
       "    <tr>\n",
       "      <th>1</th>\n",
       "      <td>0.369337</td>\n",
       "      <td>0.462561</td>\n",
       "      <td>35</td>\n",
       "      <td>[171, 163, 143, 137, 133, 113, 96, 95, 79, 58,...</td>\n",
       "      <td>1</td>\n",
       "    </tr>\n",
       "    <tr>\n",
       "      <th>2</th>\n",
       "      <td>0.212316</td>\n",
       "      <td>0.503788</td>\n",
       "      <td>2</td>\n",
       "      <td>[66, 65]</td>\n",
       "      <td>1</td>\n",
       "    </tr>\n",
       "    <tr>\n",
       "      <th>3</th>\n",
       "      <td>0.187269</td>\n",
       "      <td>0.120000</td>\n",
       "      <td>2</td>\n",
       "      <td>[100, 32]</td>\n",
       "      <td>1</td>\n",
       "    </tr>\n",
       "    <tr>\n",
       "      <th>4</th>\n",
       "      <td>0.375353</td>\n",
       "      <td>0.651056</td>\n",
       "      <td>19</td>\n",
       "      <td>[123, 100, 88, 76, 68, 54, 42, 41, 38, 35, 33,...</td>\n",
       "      <td>1</td>\n",
       "    </tr>\n",
       "  </tbody>\n",
       "</table>\n",
       "</div>"
      ],
      "text/plain": [
       "   similarity     noise  n_topics  \\\n",
       "0    0.363754  0.490385        26   \n",
       "1    0.369337  0.462561        35   \n",
       "2    0.212316  0.503788         2   \n",
       "3    0.187269  0.120000         2   \n",
       "4    0.375353  0.651056        19   \n",
       "\n",
       "                                         topic_sizes  n_valid_topics  \n",
       "0  [111, 106, 85, 65, 63, 60, 59, 58, 55, 54, 54,...               1  \n",
       "1  [171, 163, 143, 137, 133, 113, 96, 95, 79, 58,...               1  \n",
       "2                                           [66, 65]               1  \n",
       "3                                          [100, 32]               1  \n",
       "4  [123, 100, 88, 76, 68, 54, 42, 41, 38, 35, 33,...               1  "
      ]
     },
     "execution_count": 9,
     "metadata": {},
     "output_type": "execute_result"
    }
   ],
   "source": [
    "df_topic_metrics = df.loc[:, [\"_id\", \"topic_metrics\"]]\n",
    "\n",
    "df_topic_metrics[\"similarity\"] = df_topic_metrics[\"topic_metrics\"].apply(lambda x: x[\"similarity\"])\n",
    "df_topic_metrics[\"noise\"] = df_topic_metrics[\"topic_metrics\"].apply(lambda x: x[\"noise\"])\n",
    "df_topic_metrics[\"n_topics\"] = df_topic_metrics[\"topic_metrics\"].apply(lambda x: x[\"n_topics\"])\n",
    "df_topic_metrics[\"topic_sizes\"] = df_topic_metrics[\"topic_metrics\"].apply(lambda x: x[\"topic_sizes\"])\n",
    "df_topic_metrics[\"n_valid_topics\"] = df_topic_metrics[\"topic_metrics\"].apply(lambda x: x[\"n_valid_topics\"])\n",
    "\n",
    "df_topic_metrics = df_topic_metrics.drop(columns=[\"topic_metrics\"])\n",
    "df_topic_metrics.head().iloc[:, 1:]"
   ]
  },
  {
   "cell_type": "code",
   "execution_count": 10,
   "metadata": {},
   "outputs": [
    {
     "data": {
      "text/html": [
       "<div>\n",
       "<style scoped>\n",
       "    .dataframe tbody tr th:only-of-type {\n",
       "        vertical-align: middle;\n",
       "    }\n",
       "\n",
       "    .dataframe tbody tr th {\n",
       "        vertical-align: top;\n",
       "    }\n",
       "\n",
       "    .dataframe thead th {\n",
       "        text-align: right;\n",
       "    }\n",
       "</style>\n",
       "<table border=\"1\" class=\"dataframe\">\n",
       "  <thead>\n",
       "    <tr style=\"text-align: right;\">\n",
       "      <th></th>\n",
       "      <th>count</th>\n",
       "      <th>mean</th>\n",
       "      <th>std</th>\n",
       "      <th>min</th>\n",
       "      <th>25%</th>\n",
       "      <th>50%</th>\n",
       "      <th>75%</th>\n",
       "      <th>max</th>\n",
       "    </tr>\n",
       "  </thead>\n",
       "  <tbody>\n",
       "    <tr>\n",
       "      <th>topic_sizes</th>\n",
       "      <td>21614.0</td>\n",
       "      <td>57.30929</td>\n",
       "      <td>48.198698</td>\n",
       "      <td>20.0</td>\n",
       "      <td>28.0</td>\n",
       "      <td>41.0</td>\n",
       "      <td>68.0</td>\n",
       "      <td>821.0</td>\n",
       "    </tr>\n",
       "  </tbody>\n",
       "</table>\n",
       "</div>"
      ],
      "text/plain": [
       "               count      mean        std   min   25%   50%   75%    max\n",
       "topic_sizes  21614.0  57.30929  48.198698  20.0  28.0  41.0  68.0  821.0"
      ]
     },
     "execution_count": 10,
     "metadata": {},
     "output_type": "execute_result"
    }
   ],
   "source": [
    "df_topic_metrics[\"topic_sizes\"].explode().astype(int).describe().to_frame().T"
   ]
  },
  {
   "cell_type": "code",
   "execution_count": 11,
   "metadata": {},
   "outputs": [
    {
     "data": {
      "text/plain": [
       "(404, 6)"
      ]
     },
     "execution_count": 11,
     "metadata": {},
     "output_type": "execute_result"
    }
   ],
   "source": [
    "df_topic_metrics.shape"
   ]
  },
  {
   "cell_type": "code",
   "execution_count": 12,
   "metadata": {
    "colab": {
     "base_uri": "https://localhost:8080/",
     "height": 300
    },
    "id": "5mmdwqHKvRBK",
    "outputId": "759264ff-4d14-4f0f-8609-15ac1cee9a06"
   },
   "outputs": [
    {
     "data": {
      "text/html": [
       "<div>\n",
       "<style scoped>\n",
       "    .dataframe tbody tr th:only-of-type {\n",
       "        vertical-align: middle;\n",
       "    }\n",
       "\n",
       "    .dataframe tbody tr th {\n",
       "        vertical-align: top;\n",
       "    }\n",
       "\n",
       "    .dataframe thead th {\n",
       "        text-align: right;\n",
       "    }\n",
       "</style>\n",
       "<table border=\"1\" class=\"dataframe\">\n",
       "  <thead>\n",
       "    <tr style=\"text-align: right;\">\n",
       "      <th></th>\n",
       "      <th>similarity</th>\n",
       "      <th>noise</th>\n",
       "      <th>n_topics</th>\n",
       "      <th>n_valid_topics</th>\n",
       "    </tr>\n",
       "  </thead>\n",
       "  <tbody>\n",
       "    <tr>\n",
       "      <th>count</th>\n",
       "      <td>404.000000</td>\n",
       "      <td>404.000000</td>\n",
       "      <td>404.000000</td>\n",
       "      <td>404.0</td>\n",
       "    </tr>\n",
       "    <tr>\n",
       "      <th>mean</th>\n",
       "      <td>0.337022</td>\n",
       "      <td>0.549267</td>\n",
       "      <td>53.500000</td>\n",
       "      <td>1.0</td>\n",
       "    </tr>\n",
       "    <tr>\n",
       "      <th>std</th>\n",
       "      <td>0.037360</td>\n",
       "      <td>0.108946</td>\n",
       "      <td>76.970024</td>\n",
       "      <td>0.0</td>\n",
       "    </tr>\n",
       "    <tr>\n",
       "      <th>min</th>\n",
       "      <td>0.166757</td>\n",
       "      <td>0.028571</td>\n",
       "      <td>2.000000</td>\n",
       "      <td>1.0</td>\n",
       "    </tr>\n",
       "    <tr>\n",
       "      <th>25%</th>\n",
       "      <td>0.321768</td>\n",
       "      <td>0.510039</td>\n",
       "      <td>10.000000</td>\n",
       "      <td>1.0</td>\n",
       "    </tr>\n",
       "    <tr>\n",
       "      <th>50%</th>\n",
       "      <td>0.344490</td>\n",
       "      <td>0.569541</td>\n",
       "      <td>27.000000</td>\n",
       "      <td>1.0</td>\n",
       "    </tr>\n",
       "    <tr>\n",
       "      <th>75%</th>\n",
       "      <td>0.362218</td>\n",
       "      <td>0.618329</td>\n",
       "      <td>65.000000</td>\n",
       "      <td>1.0</td>\n",
       "    </tr>\n",
       "    <tr>\n",
       "      <th>max</th>\n",
       "      <td>0.414412</td>\n",
       "      <td>0.775210</td>\n",
       "      <td>713.000000</td>\n",
       "      <td>1.0</td>\n",
       "    </tr>\n",
       "  </tbody>\n",
       "</table>\n",
       "</div>"
      ],
      "text/plain": [
       "       similarity       noise    n_topics  n_valid_topics\n",
       "count  404.000000  404.000000  404.000000           404.0\n",
       "mean     0.337022    0.549267   53.500000             1.0\n",
       "std      0.037360    0.108946   76.970024             0.0\n",
       "min      0.166757    0.028571    2.000000             1.0\n",
       "25%      0.321768    0.510039   10.000000             1.0\n",
       "50%      0.344490    0.569541   27.000000             1.0\n",
       "75%      0.362218    0.618329   65.000000             1.0\n",
       "max      0.414412    0.775210  713.000000             1.0"
      ]
     },
     "execution_count": 12,
     "metadata": {},
     "output_type": "execute_result"
    }
   ],
   "source": [
    "df_topic_metrics.describe()"
   ]
  },
  {
   "cell_type": "markdown",
   "metadata": {
    "id": "KsS5NbI_vRBL"
   },
   "source": [
    "## DataFrame de tópicos"
   ]
  },
  {
   "cell_type": "code",
   "execution_count": 13,
   "metadata": {
    "colab": {
     "base_uri": "https://localhost:8080/",
     "height": 206
    },
    "id": "Z7FAo9vbvRBL",
    "outputId": "65e94758-ce7f-403b-ae74-1882a046abe1"
   },
   "outputs": [
    {
     "data": {
      "text/html": [
       "<div>\n",
       "<style scoped>\n",
       "    .dataframe tbody tr th:only-of-type {\n",
       "        vertical-align: middle;\n",
       "    }\n",
       "\n",
       "    .dataframe tbody tr th {\n",
       "        vertical-align: top;\n",
       "    }\n",
       "\n",
       "    .dataframe thead th {\n",
       "        text-align: right;\n",
       "    }\n",
       "</style>\n",
       "<table border=\"1\" class=\"dataframe\">\n",
       "  <thead>\n",
       "    <tr style=\"text-align: right;\">\n",
       "      <th></th>\n",
       "      <th>topics</th>\n",
       "    </tr>\n",
       "  </thead>\n",
       "  <tbody>\n",
       "    <tr>\n",
       "      <th>0</th>\n",
       "      <td>{'tid': 0, 'n_messages': 111, 'description': '...</td>\n",
       "    </tr>\n",
       "    <tr>\n",
       "      <th>0</th>\n",
       "      <td>{'tid': 1, 'n_messages': 106, 'description': '...</td>\n",
       "    </tr>\n",
       "    <tr>\n",
       "      <th>0</th>\n",
       "      <td>{'tid': 2, 'n_messages': 85, 'description': '2...</td>\n",
       "    </tr>\n",
       "    <tr>\n",
       "      <th>0</th>\n",
       "      <td>{'tid': 3, 'n_messages': 65, 'description': '3...</td>\n",
       "    </tr>\n",
       "    <tr>\n",
       "      <th>0</th>\n",
       "      <td>{'tid': 4, 'n_messages': 63, 'description': '4...</td>\n",
       "    </tr>\n",
       "  </tbody>\n",
       "</table>\n",
       "</div>"
      ],
      "text/plain": [
       "                                              topics\n",
       "0  {'tid': 0, 'n_messages': 111, 'description': '...\n",
       "0  {'tid': 1, 'n_messages': 106, 'description': '...\n",
       "0  {'tid': 2, 'n_messages': 85, 'description': '2...\n",
       "0  {'tid': 3, 'n_messages': 65, 'description': '3...\n",
       "0  {'tid': 4, 'n_messages': 63, 'description': '4..."
      ]
     },
     "execution_count": 13,
     "metadata": {},
     "output_type": "execute_result"
    }
   ],
   "source": [
    "df_topics = df.loc[:, [\"_id\", \"topics\"]]\n",
    "df_topics = df_topics.explode(\"topics\")\n",
    "df_topics.head().iloc[:, 1:]"
   ]
  },
  {
   "cell_type": "code",
   "execution_count": 14,
   "metadata": {
    "colab": {
     "base_uri": "https://localhost:8080/",
     "height": 328
    },
    "id": "hIXSiOa-vRBL",
    "outputId": "a2e8824a-f306-4759-c131-82fb45325f84"
   },
   "outputs": [
    {
     "data": {
      "text/html": [
       "<div>\n",
       "<style scoped>\n",
       "    .dataframe tbody tr th:only-of-type {\n",
       "        vertical-align: middle;\n",
       "    }\n",
       "\n",
       "    .dataframe tbody tr th {\n",
       "        vertical-align: top;\n",
       "    }\n",
       "\n",
       "    .dataframe thead th {\n",
       "        text-align: right;\n",
       "    }\n",
       "</style>\n",
       "<table border=\"1\" class=\"dataframe\">\n",
       "  <thead>\n",
       "    <tr style=\"text-align: right;\">\n",
       "      <th></th>\n",
       "      <th>tid</th>\n",
       "      <th>n_messages</th>\n",
       "      <th>description</th>\n",
       "      <th>keywords</th>\n",
       "      <th>representative_docs</th>\n",
       "      <th>theme</th>\n",
       "    </tr>\n",
       "  </thead>\n",
       "  <tbody>\n",
       "    <tr>\n",
       "      <th>0</th>\n",
       "      <td>0</td>\n",
       "      <td>111</td>\n",
       "      <td>0_vacunamos_novavax_fauci_reacciones</td>\n",
       "      <td>[vacunamos, novavax, fauci, reacciones, todavia]</td>\n",
       "      <td>[estracto de la agencia europea del medicament...</td>\n",
       "      <td>Conspiracy theories and misinformation about C...</td>\n",
       "    </tr>\n",
       "    <tr>\n",
       "      <th>1</th>\n",
       "      <td>1</td>\n",
       "      <td>106</td>\n",
       "      <td>1_encontrado_oficialialistas_mujer_desconectado</td>\n",
       "      <td>[encontrado, oficialialistas, mujer, desconect...</td>\n",
       "      <td>[los viajes espaciales, la creacion de una pan...</td>\n",
       "      <td>The theme revolves around conspiracy theories ...</td>\n",
       "    </tr>\n",
       "    <tr>\n",
       "      <th>2</th>\n",
       "      <td>2</td>\n",
       "      <td>85</td>\n",
       "      <td>2_expreso0demedianoche_directo_anonimo_descarg...</td>\n",
       "      <td>[expreso0demedianoche, directo, anonimo, desca...</td>\n",
       "      <td>[el expreso de media noche directo del 24/02 /...</td>\n",
       "      <td>Unauthorized use of a popular podcast's name a...</td>\n",
       "    </tr>\n",
       "    <tr>\n",
       "      <th>3</th>\n",
       "      <td>3</td>\n",
       "      <td>65</td>\n",
       "      <td>3_despiertos_actuamos_inocencia_hijos</td>\n",
       "      <td>[despiertos, actuamos, inocencia, hijos, egoce...</td>\n",
       "      <td>[da mucho asco ver ciertos personajes que van ...</td>\n",
       "      <td>Critique of egoism, superficiality, and lack o...</td>\n",
       "    </tr>\n",
       "    <tr>\n",
       "      <th>4</th>\n",
       "      <td>4</td>\n",
       "      <td>63</td>\n",
       "      <td>4_protestas_republica_belga_cerrados</td>\n",
       "      <td>[protestas, republica, belga, cerrados, vacuna...</td>\n",
       "      <td>[la gente se defiende: suiza fuerza un referé...</td>\n",
       "      <td>Public discontent and resistance against gover...</td>\n",
       "    </tr>\n",
       "  </tbody>\n",
       "</table>\n",
       "</div>"
      ],
      "text/plain": [
       "   tid  n_messages                                        description  \\\n",
       "0    0         111               0_vacunamos_novavax_fauci_reacciones   \n",
       "1    1         106    1_encontrado_oficialialistas_mujer_desconectado   \n",
       "2    2          85  2_expreso0demedianoche_directo_anonimo_descarg...   \n",
       "3    3          65              3_despiertos_actuamos_inocencia_hijos   \n",
       "4    4          63               4_protestas_republica_belga_cerrados   \n",
       "\n",
       "                                            keywords  \\\n",
       "0   [vacunamos, novavax, fauci, reacciones, todavia]   \n",
       "1  [encontrado, oficialialistas, mujer, desconect...   \n",
       "2  [expreso0demedianoche, directo, anonimo, desca...   \n",
       "3  [despiertos, actuamos, inocencia, hijos, egoce...   \n",
       "4  [protestas, republica, belga, cerrados, vacuna...   \n",
       "\n",
       "                                 representative_docs  \\\n",
       "0  [estracto de la agencia europea del medicament...   \n",
       "1  [los viajes espaciales, la creacion de una pan...   \n",
       "2  [el expreso de media noche directo del 24/02 /...   \n",
       "3  [da mucho asco ver ciertos personajes que van ...   \n",
       "4  [la gente se defiende: suiza fuerza un referé...   \n",
       "\n",
       "                                               theme  \n",
       "0  Conspiracy theories and misinformation about C...  \n",
       "1  The theme revolves around conspiracy theories ...  \n",
       "2  Unauthorized use of a popular podcast's name a...  \n",
       "3  Critique of egoism, superficiality, and lack o...  \n",
       "4  Public discontent and resistance against gover...  "
      ]
     },
     "execution_count": 14,
     "metadata": {},
     "output_type": "execute_result"
    }
   ],
   "source": [
    "df_topics[\"tid\"] = df_topics[\"topics\"].apply(lambda x: x[\"tid\"])\n",
    "df_topics[\"n_messages\"] = df_topics[\"topics\"].apply(lambda x: x[\"n_messages\"])\n",
    "df_topics[\"description\"] = df_topics[\"topics\"].apply(lambda x: x[\"description\"])\n",
    "df_topics[\"keywords\"] = df_topics[\"topics\"].apply(lambda x: x[\"keywords\"])\n",
    "df_topics[\"representative_docs\"] = df_topics[\"topics\"].apply(lambda x: x[\"representative_docs\"])\n",
    "df_topics[\"theme\"] = df_topics[\"topics\"].apply(lambda x: x[\"theme\"])\n",
    "\n",
    "df_topics = df_topics.drop(columns=[\"topics\"]).reset_index(drop=True)\n",
    "df_topics.head().iloc[:, 1:]"
   ]
  },
  {
   "cell_type": "code",
   "execution_count": 15,
   "metadata": {},
   "outputs": [
    {
     "data": {
      "text/plain": [
       "(21614, 7)"
      ]
     },
     "execution_count": 15,
     "metadata": {},
     "output_type": "execute_result"
    }
   ],
   "source": [
    "df_topics.shape"
   ]
  },
  {
   "cell_type": "code",
   "execution_count": 16,
   "metadata": {},
   "outputs": [],
   "source": [
    "df_topics.to_csv(\"../data/topics.csv\", index=False)"
   ]
  }
 ],
 "metadata": {
  "colab": {
   "provenance": []
  },
  "kernelspec": {
   "display_name": "Python 3 (ipykernel)",
   "language": "python",
   "name": "python3"
  },
  "language_info": {
   "codemirror_mode": {
    "name": "ipython",
    "version": 3
   },
   "file_extension": ".py",
   "mimetype": "text/x-python",
   "name": "python",
   "nbconvert_exporter": "python",
   "pygments_lexer": "ipython3",
   "version": "3.10.12"
  }
 },
 "nbformat": 4,
 "nbformat_minor": 4
}
