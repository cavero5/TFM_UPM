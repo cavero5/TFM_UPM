{
 "cells": [
  {
   "cell_type": "markdown",
   "metadata": {},
   "source": [
    "# Generación de meta-tópicos"
   ]
  },
  {
   "cell_type": "markdown",
   "metadata": {},
   "source": [
    "## Carga de librerías"
   ]
  },
  {
   "cell_type": "code",
   "execution_count": 47,
   "metadata": {
    "execution": {
     "iopub.execute_input": "2025-09-09T17:43:23.808882Z",
     "iopub.status.busy": "2025-09-09T17:43:23.808241Z",
     "iopub.status.idle": "2025-09-09T17:43:23.813072Z",
     "shell.execute_reply": "2025-09-09T17:43:23.812358Z",
     "shell.execute_reply.started": "2025-09-09T17:43:23.808857Z"
    }
   },
   "outputs": [],
   "source": [
    "from ast import literal_eval\n",
    "from bertopic import BERTopic\n",
    "from cuml.manifold import UMAP\n",
    "from cuml.cluster import HDBSCAN\n",
    "from sklearn.feature_extraction.text import CountVectorizer\n",
    "from sklearn.manifold import trustworthiness\n",
    "from sklearn.preprocessing import FunctionTransformer\n",
    "from wordcloud import WordCloud\n",
    "from tqdm import tqdm\n",
    "\n",
    "import numpy as np\n",
    "import pandas as pd\n",
    "import stopwordsiso as stopwords\n",
    "import pickle\n",
    "import matplotlib.pyplot as plt"
   ]
  },
  {
   "cell_type": "markdown",
   "metadata": {},
   "source": [
    "## Funciones"
   ]
  },
  {
   "cell_type": "code",
   "execution_count": 4,
   "metadata": {
    "execution": {
     "iopub.execute_input": "2025-09-09T17:14:04.776871Z",
     "iopub.status.busy": "2025-09-09T17:14:04.775550Z",
     "iopub.status.idle": "2025-09-09T17:14:04.781728Z",
     "shell.execute_reply": "2025-09-09T17:14:04.781178Z",
     "shell.execute_reply.started": "2025-09-09T17:14:04.776844Z"
    }
   },
   "outputs": [],
   "source": [
    "def compute_trustworthiness(X_high, X_low, k_eval=10, metric_high=\"cosine\", sample=None, random_state=42):\n",
    "    N = X_high.shape[0]\n",
    "    idx = np.arange(N)\n",
    "    if sample is not None and sample < N:\n",
    "        rng = np.random.default_rng(random_state)\n",
    "        idx = rng.choice(N, size=sample, replace=False)\n",
    "    Xh = X_high[idx]\n",
    "    Xl = X_low[idx]\n",
    "    tw = trustworthiness(Xh, Xl, n_neighbors=k_eval, metric=metric_high)\n",
    "    return float(tw)"
   ]
  },
  {
   "cell_type": "code",
   "execution_count": 5,
   "metadata": {
    "execution": {
     "iopub.execute_input": "2025-09-09T17:14:08.931850Z",
     "iopub.status.busy": "2025-09-09T17:14:08.931573Z",
     "iopub.status.idle": "2025-09-09T17:14:08.940954Z",
     "shell.execute_reply": "2025-09-09T17:14:08.940266Z",
     "shell.execute_reply.started": "2025-09-09T17:14:08.931828Z"
    }
   },
   "outputs": [],
   "source": [
    "def sweep_persistence_median(\n",
    "    X,\n",
    "    min_cluster_sizes,\n",
    "    *,\n",
    "    min_samples_frac=None,\n",
    "    hdbscan_cls=None,\n",
    "    hdbscan_kwargs=None,\n",
    "    random_state=42\n",
    "):\n",
    "    \"\"\"\n",
    "    Barre min_cluster_size y calcula la mediana de persistencia de los clusters.\n",
    "    \n",
    "    Devuelve un DataFrame con columnas:\n",
    "    - min_cluster_size\n",
    "    - median_persistence\n",
    "    - n_clusters\n",
    "    \"\"\"\n",
    "    if hdbscan_kwargs is None:\n",
    "        hdbscan_kwargs = {}\n",
    "\n",
    "    # elegir clase HDBSCAN si no se pasa\n",
    "    if hdbscan_cls is None:\n",
    "        try:\n",
    "            from cuml.cluster import HDBSCAN as cuHDB\n",
    "            hdbscan_cls = cuHDB\n",
    "        except Exception:\n",
    "            from hdbscan import HDBSCAN as cpuHDB\n",
    "            hdbscan_cls = cpuHDB\n",
    "\n",
    "    rows = []\n",
    "\n",
    "    for mcs in min_cluster_sizes:\n",
    "        print(f\"min_cluster_size = {mcs}\")\n",
    "        params = dict(hdbscan_kwargs)\n",
    "        params[\"min_cluster_size\"] = int(mcs)\n",
    "        if min_samples_frac is not None:\n",
    "            params[\"min_samples\"] = max(1, int(np.floor(mcs * float(min_samples_frac))))\n",
    "\n",
    "        clusterer = hdbscan_cls(**params).fit(X)\n",
    "\n",
    "        pers = getattr(clusterer, \"cluster_persistence_\", None)\n",
    "\n",
    "        # convertir a numpy si hace falta\n",
    "        try:\n",
    "            import cupy as cp\n",
    "            if isinstance(pers, cp.ndarray):\n",
    "                pers = cp.asnumpy(pers)\n",
    "        except Exception:\n",
    "            pass\n",
    "        if hasattr(pers, \"to_pandas\"):  # cudf.Series\n",
    "            pers = pers.to_pandas().values\n",
    "\n",
    "        pers = np.asarray(pers).ravel() if pers is not None else np.array([])\n",
    "\n",
    "        median_pers = float(np.median(pers)) if pers.size else np.nan\n",
    "        n_clusters = pers.size\n",
    "\n",
    "        rows.append({\n",
    "            \"min_cluster_size\": mcs,\n",
    "            \"median_persistence\": median_pers,\n",
    "            \"n_clusters\": n_clusters\n",
    "        })\n",
    "\n",
    "    df = pd.DataFrame(rows)\n",
    "    return df\n",
    "\n",
    "\n",
    "def plot_persistence_line(df, x=\"min_cluster_size\", y=\"median_persistence\"):\n",
    "    \"\"\"\n",
    "    Lineplot de persistencia mediana frente a min_cluster_size.\n",
    "    \"\"\"\n",
    "    plt.figure(figsize=(8,4.5))\n",
    "    plt.plot(df[x], df[y], marker=\"o\")\n",
    "    plt.xlabel(\"min_cluster_size\")\n",
    "    plt.ylabel(\"Mediana de persistencia\")\n",
    "    plt.title(\"Persistencia vs min_cluster_size\")\n",
    "    plt.grid(True, alpha=0.3)\n",
    "    plt.tight_layout()\n",
    "    plt.show()"
   ]
  },
  {
   "cell_type": "markdown",
   "metadata": {},
   "source": [
    "## Carga y transformación de datos"
   ]
  },
  {
   "cell_type": "code",
   "execution_count": 6,
   "metadata": {
    "execution": {
     "iopub.execute_input": "2025-09-09T17:14:28.036681Z",
     "iopub.status.busy": "2025-09-09T17:14:28.036390Z",
     "iopub.status.idle": "2025-09-09T17:14:28.040400Z",
     "shell.execute_reply": "2025-09-09T17:14:28.039666Z",
     "shell.execute_reply.started": "2025-09-09T17:14:28.036661Z"
    }
   },
   "outputs": [],
   "source": [
    "data_path = \"../data/topics.csv\""
   ]
  },
  {
   "cell_type": "code",
   "execution_count": 7,
   "metadata": {
    "execution": {
     "iopub.execute_input": "2025-09-09T17:14:38.845323Z",
     "iopub.status.busy": "2025-09-09T17:14:38.844665Z",
     "iopub.status.idle": "2025-09-09T17:14:41.135074Z",
     "shell.execute_reply": "2025-09-09T17:14:41.134424Z",
     "shell.execute_reply.started": "2025-09-09T17:14:38.845289Z"
    }
   },
   "outputs": [
    {
     "data": {
      "text/html": [
       "<div>\n",
       "<style scoped>\n",
       "    .dataframe tbody tr th:only-of-type {\n",
       "        vertical-align: middle;\n",
       "    }\n",
       "\n",
       "    .dataframe tbody tr th {\n",
       "        vertical-align: top;\n",
       "    }\n",
       "\n",
       "    .dataframe thead th {\n",
       "        text-align: right;\n",
       "    }\n",
       "</style>\n",
       "<table border=\"1\" class=\"dataframe\">\n",
       "  <thead>\n",
       "    <tr style=\"text-align: right;\">\n",
       "      <th></th>\n",
       "      <th>tid</th>\n",
       "      <th>n_messages</th>\n",
       "      <th>description</th>\n",
       "      <th>keywords</th>\n",
       "      <th>representative_docs</th>\n",
       "      <th>theme</th>\n",
       "    </tr>\n",
       "  </thead>\n",
       "  <tbody>\n",
       "    <tr>\n",
       "      <th>0</th>\n",
       "      <td>0</td>\n",
       "      <td>111</td>\n",
       "      <td>0_vacunamos_novavax_fauci_reacciones</td>\n",
       "      <td>['vacunamos', 'novavax', 'fauci', 'reacciones'...</td>\n",
       "      <td>['estracto de la agencia europea del medicamen...</td>\n",
       "      <td>Conspiracy theories and misinformation about C...</td>\n",
       "    </tr>\n",
       "    <tr>\n",
       "      <th>1</th>\n",
       "      <td>1</td>\n",
       "      <td>106</td>\n",
       "      <td>1_encontrado_oficialialistas_mujer_desconectado</td>\n",
       "      <td>['encontrado', 'oficialialistas', 'mujer', 'de...</td>\n",
       "      <td>['los viajes espaciales, la creacion de una pa...</td>\n",
       "      <td>The theme revolves around conspiracy theories ...</td>\n",
       "    </tr>\n",
       "    <tr>\n",
       "      <th>2</th>\n",
       "      <td>2</td>\n",
       "      <td>85</td>\n",
       "      <td>2_expreso0demedianoche_directo_anonimo_descarg...</td>\n",
       "      <td>['expreso0demedianoche', 'directo', 'anonimo',...</td>\n",
       "      <td>['el expreso de media noche directo del 24/02 ...</td>\n",
       "      <td>Unauthorized use of a popular podcast's name a...</td>\n",
       "    </tr>\n",
       "    <tr>\n",
       "      <th>3</th>\n",
       "      <td>3</td>\n",
       "      <td>65</td>\n",
       "      <td>3_despiertos_actuamos_inocencia_hijos</td>\n",
       "      <td>['despiertos', 'actuamos', 'inocencia', 'hijos...</td>\n",
       "      <td>['da mucho asco ver ciertos personajes que van...</td>\n",
       "      <td>Critique of egoism, superficiality, and lack o...</td>\n",
       "    </tr>\n",
       "    <tr>\n",
       "      <th>4</th>\n",
       "      <td>4</td>\n",
       "      <td>63</td>\n",
       "      <td>4_protestas_republica_belga_cerrados</td>\n",
       "      <td>['protestas', 'republica', 'belga', 'cerrados'...</td>\n",
       "      <td>['la gente se defiende: suiza fuerza un refere...</td>\n",
       "      <td>Public discontent and resistance against gover...</td>\n",
       "    </tr>\n",
       "  </tbody>\n",
       "</table>\n",
       "</div>"
      ],
      "text/plain": [
       "   tid  n_messages                                        description  \\\n",
       "0    0         111               0_vacunamos_novavax_fauci_reacciones   \n",
       "1    1         106    1_encontrado_oficialialistas_mujer_desconectado   \n",
       "2    2          85  2_expreso0demedianoche_directo_anonimo_descarg...   \n",
       "3    3          65              3_despiertos_actuamos_inocencia_hijos   \n",
       "4    4          63               4_protestas_republica_belga_cerrados   \n",
       "\n",
       "                                            keywords  \\\n",
       "0  ['vacunamos', 'novavax', 'fauci', 'reacciones'...   \n",
       "1  ['encontrado', 'oficialialistas', 'mujer', 'de...   \n",
       "2  ['expreso0demedianoche', 'directo', 'anonimo',...   \n",
       "3  ['despiertos', 'actuamos', 'inocencia', 'hijos...   \n",
       "4  ['protestas', 'republica', 'belga', 'cerrados'...   \n",
       "\n",
       "                                 representative_docs  \\\n",
       "0  ['estracto de la agencia europea del medicamen...   \n",
       "1  ['los viajes espaciales, la creacion de una pa...   \n",
       "2  ['el expreso de media noche directo del 24/02 ...   \n",
       "3  ['da mucho asco ver ciertos personajes que van...   \n",
       "4  ['la gente se defiende: suiza fuerza un refere...   \n",
       "\n",
       "                                               theme  \n",
       "0  Conspiracy theories and misinformation about C...  \n",
       "1  The theme revolves around conspiracy theories ...  \n",
       "2  Unauthorized use of a popular podcast's name a...  \n",
       "3  Critique of egoism, superficiality, and lack o...  \n",
       "4  Public discontent and resistance against gover...  "
      ]
     },
     "execution_count": 7,
     "metadata": {},
     "output_type": "execute_result"
    }
   ],
   "source": [
    "df_topics = pd.read_csv(data_path)\n",
    "df_topics.head().iloc[:, 1:]"
   ]
  },
  {
   "cell_type": "code",
   "execution_count": 8,
   "metadata": {
    "execution": {
     "iopub.execute_input": "2025-09-09T17:14:42.394189Z",
     "iopub.status.busy": "2025-09-09T17:14:42.393874Z",
     "iopub.status.idle": "2025-09-09T17:14:43.615079Z",
     "shell.execute_reply": "2025-09-09T17:14:43.614519Z",
     "shell.execute_reply.started": "2025-09-09T17:14:42.394168Z"
    }
   },
   "outputs": [],
   "source": [
    "# Columna de strings a listas\n",
    "df_topics[\"representative_docs\"] = df_topics[\"representative_docs\"].apply(literal_eval)"
   ]
  },
  {
   "cell_type": "code",
   "execution_count": 9,
   "metadata": {
    "execution": {
     "iopub.execute_input": "2025-09-09T17:14:45.135194Z",
     "iopub.status.busy": "2025-09-09T17:14:45.134538Z",
     "iopub.status.idle": "2025-09-09T17:14:45.176327Z",
     "shell.execute_reply": "2025-09-09T17:14:45.175620Z",
     "shell.execute_reply.started": "2025-09-09T17:14:45.135173Z"
    }
   },
   "outputs": [
    {
     "data": {
      "text/html": [
       "<div>\n",
       "<style scoped>\n",
       "    .dataframe tbody tr th:only-of-type {\n",
       "        vertical-align: middle;\n",
       "    }\n",
       "\n",
       "    .dataframe tbody tr th {\n",
       "        vertical-align: top;\n",
       "    }\n",
       "\n",
       "    .dataframe thead th {\n",
       "        text-align: right;\n",
       "    }\n",
       "</style>\n",
       "<table border=\"1\" class=\"dataframe\">\n",
       "  <thead>\n",
       "    <tr style=\"text-align: right;\">\n",
       "      <th></th>\n",
       "      <th>tid</th>\n",
       "      <th>representative_docs</th>\n",
       "    </tr>\n",
       "  </thead>\n",
       "  <tbody>\n",
       "    <tr>\n",
       "      <th>0</th>\n",
       "      <td>0</td>\n",
       "      <td>estracto de la agencia europea del medicamento...</td>\n",
       "    </tr>\n",
       "    <tr>\n",
       "      <th>1</th>\n",
       "      <td>0</td>\n",
       "      <td>\" si me vacunan: 1 . - ¿ puedo dejar de usar l...</td>\n",
       "    </tr>\n",
       "    <tr>\n",
       "      <th>2</th>\n",
       "      <td>0</td>\n",
       "      <td>buenos días la ema avisa de que la segunda do...</td>\n",
       "    </tr>\n",
       "    <tr>\n",
       "      <th>3</th>\n",
       "      <td>1</td>\n",
       "      <td>los viajes espaciales, la creacion de una pand...</td>\n",
       "    </tr>\n",
       "    <tr>\n",
       "      <th>4</th>\n",
       "      <td>1</td>\n",
       "      <td>2011...este articulo del periodico sovereign i...</td>\n",
       "    </tr>\n",
       "  </tbody>\n",
       "</table>\n",
       "</div>"
      ],
      "text/plain": [
       "   tid                                representative_docs\n",
       "0    0  estracto de la agencia europea del medicamento...\n",
       "1    0  \" si me vacunan: 1 . - ¿ puedo dejar de usar l...\n",
       "2    0  buenos días la ema avisa de que la segunda do...\n",
       "3    1  los viajes espaciales, la creacion de una pand...\n",
       "4    1  2011...este articulo del periodico sovereign i..."
      ]
     },
     "execution_count": 9,
     "metadata": {},
     "output_type": "execute_result"
    }
   ],
   "source": [
    "# Una fila por doc\n",
    "cols = [\"_id\", \"tid\", \"representative_docs\"]\n",
    "df_topics_expl = (df_topics[cols]\n",
    "                  .explode(\"representative_docs\", ignore_index=True))\n",
    "df_topics_expl.head().iloc[:, 1:]"
   ]
  },
  {
   "cell_type": "code",
   "execution_count": 10,
   "metadata": {
    "execution": {
     "iopub.execute_input": "2025-09-09T17:14:48.100847Z",
     "iopub.status.busy": "2025-09-09T17:14:48.100607Z",
     "iopub.status.idle": "2025-09-09T17:14:48.105631Z",
     "shell.execute_reply": "2025-09-09T17:14:48.104851Z",
     "shell.execute_reply.started": "2025-09-09T17:14:48.100831Z"
    }
   },
   "outputs": [
    {
     "data": {
      "text/plain": [
       "(64842, 3)"
      ]
     },
     "execution_count": 10,
     "metadata": {},
     "output_type": "execute_result"
    }
   ],
   "source": [
    "df_topics_expl.shape"
   ]
  },
  {
   "cell_type": "code",
   "execution_count": 11,
   "metadata": {
    "execution": {
     "iopub.execute_input": "2025-09-09T17:14:50.027098Z",
     "iopub.status.busy": "2025-09-09T17:14:50.026798Z",
     "iopub.status.idle": "2025-09-09T17:14:50.326926Z",
     "shell.execute_reply": "2025-09-09T17:14:50.326135Z",
     "shell.execute_reply.started": "2025-09-09T17:14:50.027075Z"
    }
   },
   "outputs": [],
   "source": [
    "# Evitar repetir el mismo doc dentro del mismo tópico en un mismo canal\n",
    "df_topics_expl = (df_topics_expl\n",
    "                  .drop_duplicates()\n",
    "                  .reset_index(drop=True))"
   ]
  },
  {
   "cell_type": "code",
   "execution_count": 12,
   "metadata": {
    "execution": {
     "iopub.execute_input": "2025-09-09T17:14:52.240587Z",
     "iopub.status.busy": "2025-09-09T17:14:52.240323Z",
     "iopub.status.idle": "2025-09-09T17:14:52.245394Z",
     "shell.execute_reply": "2025-09-09T17:14:52.244683Z",
     "shell.execute_reply.started": "2025-09-09T17:14:52.240568Z"
    }
   },
   "outputs": [
    {
     "data": {
      "text/plain": [
       "(64228, 3)"
      ]
     },
     "execution_count": 12,
     "metadata": {},
     "output_type": "execute_result"
    }
   ],
   "source": [
    "df_topics_expl.shape"
   ]
  },
  {
   "cell_type": "markdown",
   "metadata": {},
   "source": [
    "## Carga de embeddings"
   ]
  },
  {
   "cell_type": "code",
   "execution_count": 14,
   "metadata": {
    "execution": {
     "iopub.execute_input": "2025-09-09T17:15:06.090540Z",
     "iopub.status.busy": "2025-09-09T17:15:06.090275Z",
     "iopub.status.idle": "2025-09-09T17:15:07.604549Z",
     "shell.execute_reply": "2025-09-09T17:15:07.603773Z",
     "shell.execute_reply.started": "2025-09-09T17:15:06.090520Z"
    }
   },
   "outputs": [],
   "source": [
    "with open(\"../data/embeddings.pkl\", \"rb\") as f:\n",
    "    E = pickle.load(f)"
   ]
  },
  {
   "cell_type": "code",
   "execution_count": 15,
   "metadata": {
    "execution": {
     "iopub.execute_input": "2025-09-09T17:15:09.701302Z",
     "iopub.status.busy": "2025-09-09T17:15:09.700736Z",
     "iopub.status.idle": "2025-09-09T17:15:09.705635Z",
     "shell.execute_reply": "2025-09-09T17:15:09.705092Z",
     "shell.execute_reply.started": "2025-09-09T17:15:09.701277Z"
    }
   },
   "outputs": [
    {
     "data": {
      "text/plain": [
       "(64228, 768)"
      ]
     },
     "execution_count": 15,
     "metadata": {},
     "output_type": "execute_result"
    }
   ],
   "source": [
    "E.shape"
   ]
  },
  {
   "cell_type": "markdown",
   "metadata": {},
   "source": [
    "## Topic modeling"
   ]
  },
  {
   "cell_type": "markdown",
   "metadata": {},
   "source": [
    "Usaremos los documentos más representativos de los tópicos generados por BERTopic para generar meta-tópicos. Para ello, se volverá a reproducir el fujo de BERTopic, esta vez con estos documentos que pertenecen al conjunto total de canales. De este modo, se obtendrán temáticas más genéricas que las anteriores y comunes entre canales (permitiendo, así, establecer las relaciones que se buscan entre ellos)."
   ]
  },
  {
   "cell_type": "markdown",
   "metadata": {},
   "source": [
    "### Elección de hiperparámetros"
   ]
  },
  {
   "cell_type": "markdown",
   "metadata": {},
   "source": [
    "#### UMAP"
   ]
  },
  {
   "cell_type": "code",
   "execution_count": 16,
   "metadata": {
    "execution": {
     "iopub.execute_input": "2025-09-09T17:15:24.083371Z",
     "iopub.status.busy": "2025-09-09T17:15:24.083097Z",
     "iopub.status.idle": "2025-09-09T17:18:16.481381Z",
     "shell.execute_reply": "2025-09-09T17:18:16.480478Z",
     "shell.execute_reply.started": "2025-09-09T17:15:24.083350Z"
    }
   },
   "outputs": [
    {
     "name": "stdout",
     "output_type": "stream",
     "text": [
      ">> UMAP n_components=10, n_neighbors=5\n",
      "[2025-09-09 17:15:24.100] [CUML] [info] build_algo set to brute_force_knn because random_state is given\n",
      ">> UMAP n_components=10, n_neighbors=15\n",
      "[2025-09-09 17:15:31.969] [CUML] [info] build_algo set to brute_force_knn because random_state is given\n",
      ">> UMAP n_components=10, n_neighbors=30\n",
      "[2025-09-09 17:15:39.003] [CUML] [info] build_algo set to brute_force_knn because random_state is given\n",
      ">> UMAP n_components=10, n_neighbors=50\n",
      "[2025-09-09 17:15:46.359] [CUML] [info] build_algo set to brute_force_knn because random_state is given\n",
      ">> UMAP n_components=20, n_neighbors=5\n",
      "[2025-09-09 17:15:54.039] [CUML] [info] build_algo set to brute_force_knn because random_state is given\n",
      ">> UMAP n_components=20, n_neighbors=15\n",
      "[2025-09-09 17:16:01.156] [CUML] [info] build_algo set to brute_force_knn because random_state is given\n",
      ">> UMAP n_components=20, n_neighbors=30\n",
      "[2025-09-09 17:16:08.755] [CUML] [info] build_algo set to brute_force_knn because random_state is given\n",
      ">> UMAP n_components=20, n_neighbors=50\n",
      "[2025-09-09 17:16:17.103] [CUML] [info] build_algo set to brute_force_knn because random_state is given\n",
      ">> UMAP n_components=50, n_neighbors=5\n",
      "[2025-09-09 17:16:25.985] [CUML] [info] build_algo set to brute_force_knn because random_state is given\n",
      ">> UMAP n_components=50, n_neighbors=15\n",
      "[2025-09-09 17:16:35.317] [CUML] [info] build_algo set to brute_force_knn because random_state is given\n",
      ">> UMAP n_components=50, n_neighbors=30\n",
      "[2025-09-09 17:16:45.303] [CUML] [info] build_algo set to brute_force_knn because random_state is given\n",
      ">> UMAP n_components=50, n_neighbors=50\n",
      "[2025-09-09 17:16:56.677] [CUML] [info] build_algo set to brute_force_knn because random_state is given\n",
      ">> UMAP n_components=100, n_neighbors=5\n",
      "[2025-09-09 17:17:09.733] [CUML] [info] build_algo set to brute_force_knn because random_state is given\n",
      ">> UMAP n_components=100, n_neighbors=15\n",
      "[2025-09-09 17:17:23.444] [CUML] [info] build_algo set to brute_force_knn because random_state is given\n",
      ">> UMAP n_components=100, n_neighbors=30\n",
      "[2025-09-09 17:17:38.349] [CUML] [info] build_algo set to brute_force_knn because random_state is given\n",
      ">> UMAP n_components=100, n_neighbors=50\n",
      "[2025-09-09 17:17:55.815] [CUML] [info] build_algo set to brute_force_knn because random_state is given\n"
     ]
    }
   ],
   "source": [
    "# ==========\n",
    "# Grid search sobre (n_components, n_neighbors)\n",
    "# ==========\n",
    "n_components_list = [10, 20, 50, 100]\n",
    "n_neighbors_list  = [5, 15, 30, 50]\n",
    "\n",
    "k_eval = 10       # nº vecinos usado en la métrica trustworthiness\n",
    "sample = 10000    # submuestreo para hacerlo viable\n",
    "\n",
    "results = []\n",
    "\n",
    "for nc in n_components_list:\n",
    "    for nn in n_neighbors_list:\n",
    "        print(f\">> UMAP n_components={nc}, n_neighbors={nn}\")\n",
    "        X_umap = UMAP(\n",
    "            n_neighbors=nn,\n",
    "            n_components=nc,\n",
    "            min_dist=0.0,\n",
    "            metric=\"cosine\",\n",
    "            random_state=42\n",
    "        ).fit_transform(E)\n",
    "\n",
    "        tw = compute_trustworthiness(E, X_umap, k_eval=k_eval, sample=sample)\n",
    "        results.append({\"n_components\": nc, \"n_neighbors\": nn, \"trustworthiness\": tw})\n",
    "\n",
    "df_grid = pd.DataFrame(results)\n",
    "df_pivot = df_grid.pivot(index=\"n_components\", columns=\"n_neighbors\", values=\"trustworthiness\")"
   ]
  },
  {
   "cell_type": "code",
   "execution_count": 17,
   "metadata": {
    "execution": {
     "iopub.execute_input": "2025-09-09T17:18:18.982164Z",
     "iopub.status.busy": "2025-09-09T17:18:18.981462Z",
     "iopub.status.idle": "2025-09-09T17:18:19.234022Z",
     "shell.execute_reply": "2025-09-09T17:18:19.233322Z",
     "shell.execute_reply.started": "2025-09-09T17:18:18.982140Z"
    }
   },
   "outputs": [
    {
     "data": {
      "image/png": "[encoded data removed]",
      "text/plain": [
       "<Figure size 600x400 with 2 Axes>"
      ]
     },
     "metadata": {},
     "output_type": "display_data"
    }
   ],
   "source": [
    "# Heatmap\n",
    "plt.figure(figsize=(6,4))\n",
    "plt.imshow(df_pivot.values, cmap=\"viridis\", aspect=\"auto\", origin=\"lower\")\n",
    "plt.xticks(range(len(n_neighbors_list)), n_neighbors_list)\n",
    "plt.yticks(range(len(n_components_list)), n_components_list)\n",
    "plt.colorbar(label=\"Trustworthiness\")\n",
    "plt.xlabel(\"n_neighbors\")\n",
    "plt.ylabel(\"n_components\")\n",
    "plt.title(f\"Trustworthiness (k_eval={k_eval})\")\n",
    "plt.tight_layout()\n",
    "plt.show()"
   ]
  },
  {
   "cell_type": "markdown",
   "metadata": {},
   "source": [
    "#### HDBSCAN"
   ]
  },
  {
   "cell_type": "code",
   "execution_count": 18,
   "metadata": {
    "execution": {
     "iopub.execute_input": "2025-09-09T17:18:28.486272Z",
     "iopub.status.busy": "2025-09-09T17:18:28.485922Z",
     "iopub.status.idle": "2025-09-09T17:18:41.944258Z",
     "shell.execute_reply": "2025-09-09T17:18:41.943493Z",
     "shell.execute_reply.started": "2025-09-09T17:18:28.486251Z"
    }
   },
   "outputs": [
    {
     "name": "stdout",
     "output_type": "stream",
     "text": [
      "[2025-09-09 17:18:28.489] [CUML] [info] build_algo set to brute_force_knn because random_state is given\n"
     ]
    }
   ],
   "source": [
    "umap_model = UMAP(n_neighbors=30, n_components=100, min_dist=0.0, metric=\"cosine\", random_state=42)\n",
    "X_umap = umap_model.fit_transform(E)"
   ]
  },
  {
   "cell_type": "code",
   "execution_count": 22,
   "metadata": {
    "execution": {
     "iopub.execute_input": "2025-09-09T17:20:00.306308Z",
     "iopub.status.busy": "2025-09-09T17:20:00.306030Z",
     "iopub.status.idle": "2025-09-09T17:20:24.850337Z",
     "shell.execute_reply": "2025-09-09T17:20:24.849722Z",
     "shell.execute_reply.started": "2025-09-09T17:20:00.306281Z"
    }
   },
   "outputs": [
    {
     "name": "stdout",
     "output_type": "stream",
     "text": [
      "min_cluster_size = 5\n",
      "min_cluster_size = 10\n",
      "min_cluster_size = 15\n",
      "min_cluster_size = 20\n",
      "min_cluster_size = 25\n",
      "min_cluster_size = 30\n",
      "min_cluster_size = 35\n",
      "min_cluster_size = 40\n",
      "min_cluster_size = 45\n",
      "min_cluster_size = 50\n"
     ]
    }
   ],
   "source": [
    "# GridSearch sobre min_cluster_size\n",
    "grid = list(range(5, 51, 5))\n",
    "\n",
    "df_pers = sweep_persistence_median(\n",
    "    X_umap,\n",
    "    grid,\n",
    "    min_samples_frac=1,\n",
    "    hdbscan_kwargs=dict(metric=\"euclidean\", cluster_selection_method=\"eom\")\n",
    ")"
   ]
  },
  {
   "cell_type": "code",
   "execution_count": 23,
   "metadata": {
    "execution": {
     "iopub.execute_input": "2025-09-09T17:20:35.035680Z",
     "iopub.status.busy": "2025-09-09T17:20:35.035399Z",
     "iopub.status.idle": "2025-09-09T17:20:35.041919Z",
     "shell.execute_reply": "2025-09-09T17:20:35.041225Z",
     "shell.execute_reply.started": "2025-09-09T17:20:35.035659Z"
    }
   },
   "outputs": [
    {
     "name": "stdout",
     "output_type": "stream",
     "text": [
      "   min_cluster_size  median_persistence  n_clusters\n",
      "0                 5            0.028431        1159\n",
      "1                10            0.058288         480\n",
      "2                15            0.062970         304\n",
      "3                20            0.076010         213\n",
      "4                25            0.081127         174\n",
      "5                30            0.076195         146\n",
      "6                35            0.086963         124\n",
      "7                40            0.089648         102\n",
      "8                45            0.085112          79\n",
      "9                50            0.077108          69\n"
     ]
    }
   ],
   "source": [
    "print(df_pers)"
   ]
  },
  {
   "cell_type": "code",
   "execution_count": 24,
   "metadata": {
    "execution": {
     "iopub.execute_input": "2025-09-09T17:20:38.811973Z",
     "iopub.status.busy": "2025-09-09T17:20:38.811265Z",
     "iopub.status.idle": "2025-09-09T17:20:38.981675Z",
     "shell.execute_reply": "2025-09-09T17:20:38.981095Z",
     "shell.execute_reply.started": "2025-09-09T17:20:38.811930Z"
    }
   },
   "outputs": [
    {
     "data": {
      "image/png": "[encoded data removed]",
      "text/plain": [
       "<Figure size 800x450 with 1 Axes>"
      ]
     },
     "metadata": {},
     "output_type": "display_data"
    }
   ],
   "source": [
    "plot_persistence_line(df_pers)"
   ]
  },
  {
   "cell_type": "markdown",
   "metadata": {},
   "source": [
    "### BERTopic"
   ]
  },
  {
   "cell_type": "code",
   "execution_count": 25,
   "metadata": {
    "execution": {
     "iopub.execute_input": "2025-09-09T17:21:02.437966Z",
     "iopub.status.busy": "2025-09-09T17:21:02.437653Z",
     "iopub.status.idle": "2025-09-09T17:21:17.019324Z",
     "shell.execute_reply": "2025-09-09T17:21:17.018688Z",
     "shell.execute_reply.started": "2025-09-09T17:21:02.437919Z"
    }
   },
   "outputs": [
    {
     "name": "stderr",
     "output_type": "stream",
     "text": [
      "2025-09-09 17:21:02,476 - BERTopic - Dimensionality - Fitting the dimensionality reduction algorithm\n",
      "2025-09-09 17:21:02,477 - BERTopic - Dimensionality - Completed ✓\n",
      "2025-09-09 17:21:02,550 - BERTopic - Cluster - Start clustering the reduced embeddings\n",
      "2025-09-09 17:21:05,301 - BERTopic - Cluster - Completed ✓\n",
      "2025-09-09 17:21:05,317 - BERTopic - Representation - Fine-tuning topics using representation models.\n",
      "2025-09-09 17:21:14,978 - BERTopic - Representation - Completed ✓\n"
     ]
    }
   ],
   "source": [
    "# Segundo BERTopic con embeddings precalculados\n",
    "\n",
    "passthrough = FunctionTransformer(lambda X: X, validate=False)\n",
    "hdbscan_model = HDBSCAN(min_cluster_size=40, metric=\"euclidean\", prediction_data=True)\n",
    "\n",
    "topic_model = BERTopic(\n",
    "    embedding_model=None,\n",
    "    umap_model=passthrough,\n",
    "    hdbscan_model=hdbscan_model,\n",
    "    calculate_probabilities=True,\n",
    "    verbose=True\n",
    ")\n",
    "\n",
    "meta_topics, meta_probs = topic_model.fit_transform(\n",
    "    df_topics_expl[\"representative_docs\"], embeddings=X_umap\n",
    ")"
   ]
  },
  {
   "cell_type": "code",
   "execution_count": 27,
   "metadata": {
    "execution": {
     "iopub.execute_input": "2025-09-09T17:23:03.799408Z",
     "iopub.status.busy": "2025-09-09T17:23:03.798609Z",
     "iopub.status.idle": "2025-09-09T17:24:06.382793Z",
     "shell.execute_reply": "2025-09-09T17:24:06.382229Z",
     "shell.execute_reply.started": "2025-09-09T17:23:03.799383Z"
    }
   },
   "outputs": [],
   "source": [
    "# Unir todas las stopwords de todos los idiomas en un solo set\n",
    "all_stops = set().union(*(stopwords.stopwords(lang) for lang in stopwords.langs()))\n",
    "\n",
    "# Redefinir CountVectorizer para eliminar stopwords de la representación y formar N-gramas de\n",
    "# hasta 3 palabras\n",
    "vectorizer_model = CountVectorizer(\n",
    "    stop_words=list(all_stops),\n",
    "    ngram_range=(1, 3),\n",
    "    lowercase=True,\n",
    "    strip_accents=\"unicode\"\n",
    ")\n",
    "\n",
    "# Actualizar los tópicos\n",
    "topic_model.update_topics(df_topics_expl[\"representative_docs\"], vectorizer_model=vectorizer_model)"
   ]
  },
  {
   "cell_type": "code",
   "execution_count": 29,
   "metadata": {
    "execution": {
     "iopub.execute_input": "2025-09-09T17:24:10.711926Z",
     "iopub.status.busy": "2025-09-09T17:24:10.711641Z",
     "iopub.status.idle": "2025-09-09T17:24:18.812128Z",
     "shell.execute_reply": "2025-09-09T17:24:18.811611Z",
     "shell.execute_reply.started": "2025-09-09T17:24:10.711903Z"
    }
   },
   "outputs": [
    {
     "data": {
      "text/html": [
       "<iframe\n",
       "    scrolling=\"no\"\n",
       "    width=\"670px\"\n",
       "    height=\"670\"\n",
       "    src=\"iframe_figures/figure_29.html\"\n",
       "    frameborder=\"0\"\n",
       "    allowfullscreen\n",
       "></iframe>\n"
      ]
     },
     "metadata": {},
     "output_type": "display_data"
    }
   ],
   "source": [
    "topic_model.visualize_topics()"
   ]
  },
  {
   "cell_type": "code",
   "execution_count": 30,
   "metadata": {
    "execution": {
     "iopub.execute_input": "2025-09-09T17:25:17.353453Z",
     "iopub.status.busy": "2025-09-09T17:25:17.353174Z",
     "iopub.status.idle": "2025-09-09T17:25:22.189610Z",
     "shell.execute_reply": "2025-09-09T17:25:22.188844Z",
     "shell.execute_reply.started": "2025-09-09T17:25:17.353431Z"
    }
   },
   "outputs": [
    {
     "name": "stdout",
     "output_type": "stream",
     "text": [
      "[2025-09-09 17:25:17.356] [CUML] [info] build_algo set to brute_force_knn because random_state is given\n"
     ]
    },
    {
     "data": {
      "text/html": [
       "<iframe\n",
       "    scrolling=\"no\"\n",
       "    width=\"1220px\"\n",
       "    height=\"770\"\n",
       "    src=\"iframe_figures/figure_30.html\"\n",
       "    frameborder=\"0\"\n",
       "    allowfullscreen\n",
       "></iframe>\n"
      ]
     },
     "metadata": {},
     "output_type": "display_data"
    }
   ],
   "source": [
    "# Visualizar los documentos clusterizados en espacio reducido a 2D\n",
    "reduced_embeddings = UMAP(n_neighbors=30, n_components=2, min_dist=0.0, metric=\"cosine\", random_state=42).fit_transform(E)\n",
    "topic_model.visualize_documents(df_topics_expl[\"representative_docs\"], reduced_embeddings=reduced_embeddings, hide_annotations=True)"
   ]
  },
  {
   "cell_type": "markdown",
   "metadata": {},
   "source": [
    "## Analizar y guardar resultados"
   ]
  },
  {
   "cell_type": "code",
   "execution_count": 33,
   "metadata": {
    "execution": {
     "iopub.execute_input": "2025-09-09T17:27:43.257538Z",
     "iopub.status.busy": "2025-09-09T17:27:43.256832Z",
     "iopub.status.idle": "2025-09-09T17:27:43.265600Z",
     "shell.execute_reply": "2025-09-09T17:27:43.264976Z",
     "shell.execute_reply.started": "2025-09-09T17:27:43.257515Z"
    }
   },
   "outputs": [
    {
     "data": {
      "text/html": [
       "<div>\n",
       "<style scoped>\n",
       "    .dataframe tbody tr th:only-of-type {\n",
       "        vertical-align: middle;\n",
       "    }\n",
       "\n",
       "    .dataframe tbody tr th {\n",
       "        vertical-align: top;\n",
       "    }\n",
       "\n",
       "    .dataframe thead th {\n",
       "        text-align: right;\n",
       "    }\n",
       "</style>\n",
       "<table border=\"1\" class=\"dataframe\">\n",
       "  <thead>\n",
       "    <tr style=\"text-align: right;\">\n",
       "      <th></th>\n",
       "      <th>tid</th>\n",
       "      <th>representative_docs</th>\n",
       "      <th>cluster</th>\n",
       "      <th>cluster_prob</th>\n",
       "    </tr>\n",
       "  </thead>\n",
       "  <tbody>\n",
       "    <tr>\n",
       "      <th>0</th>\n",
       "      <td>0</td>\n",
       "      <td>estracto de la agencia europea del medicamento...</td>\n",
       "      <td>0</td>\n",
       "      <td>0.121201</td>\n",
       "    </tr>\n",
       "    <tr>\n",
       "      <th>1</th>\n",
       "      <td>0</td>\n",
       "      <td>\" si me vacunan: 1 . - ¿ puedo dejar de usar l...</td>\n",
       "      <td>0</td>\n",
       "      <td>0.068394</td>\n",
       "    </tr>\n",
       "    <tr>\n",
       "      <th>2</th>\n",
       "      <td>0</td>\n",
       "      <td>buenos días la ema avisa de que la segunda do...</td>\n",
       "      <td>0</td>\n",
       "      <td>0.092112</td>\n",
       "    </tr>\n",
       "    <tr>\n",
       "      <th>3</th>\n",
       "      <td>1</td>\n",
       "      <td>los viajes espaciales, la creacion de una pand...</td>\n",
       "      <td>-1</td>\n",
       "      <td>0.522919</td>\n",
       "    </tr>\n",
       "    <tr>\n",
       "      <th>4</th>\n",
       "      <td>1</td>\n",
       "      <td>2011...este articulo del periodico sovereign i...</td>\n",
       "      <td>-1</td>\n",
       "      <td>0.141489</td>\n",
       "    </tr>\n",
       "  </tbody>\n",
       "</table>\n",
       "</div>"
      ],
      "text/plain": [
       "   tid                                representative_docs  cluster  \\\n",
       "0    0  estracto de la agencia europea del medicamento...        0   \n",
       "1    0  \" si me vacunan: 1 . - ¿ puedo dejar de usar l...        0   \n",
       "2    0  buenos días la ema avisa de que la segunda do...        0   \n",
       "3    1  los viajes espaciales, la creacion de una pand...       -1   \n",
       "4    1  2011...este articulo del periodico sovereign i...       -1   \n",
       "\n",
       "   cluster_prob  \n",
       "0      0.121201  \n",
       "1      0.068394  \n",
       "2      0.092112  \n",
       "3      0.522919  \n",
       "4      0.141489  "
      ]
     },
     "execution_count": 33,
     "metadata": {},
     "output_type": "execute_result"
    }
   ],
   "source": [
    "# Docs\n",
    "docs = df_topics_expl[\"representative_docs\"].tolist()\n",
    "\n",
    "# Tabla por documento (alineada con 'docs')\n",
    "doc_info = topic_model.get_document_info(docs)\n",
    "df_topics_expl = (\n",
    "    df_topics_expl.reset_index(drop=True)\n",
    "    .join(\n",
    "        doc_info[[\"Topic\", \"Probability\"]]\n",
    "        .rename(columns={\"Topic\": \"cluster\", \"Probability\": \"cluster_prob\"})\n",
    "    )\n",
    ")\n",
    "\n",
    "df_topics_expl.head().iloc[:, 1:]"
   ]
  },
  {
   "cell_type": "code",
   "execution_count": 36,
   "metadata": {
    "execution": {
     "iopub.execute_input": "2025-09-09T17:32:20.322732Z",
     "iopub.status.busy": "2025-09-09T17:32:20.322041Z",
     "iopub.status.idle": "2025-09-09T17:32:20.339902Z",
     "shell.execute_reply": "2025-09-09T17:32:20.339198Z",
     "shell.execute_reply.started": "2025-09-09T17:32:20.322708Z"
    }
   },
   "outputs": [
    {
     "data": {
      "text/plain": [
       "cluster\n",
       "-1      398\n",
       " 0      327\n",
       " 1      208\n",
       " 2      257\n",
       " 3      238\n",
       "       ... \n",
       " 97      19\n",
       " 98      21\n",
       " 99      26\n",
       " 100     22\n",
       " 101     23\n",
       "Name: _id, Length: 103, dtype: int64"
      ]
     },
     "execution_count": 36,
     "metadata": {},
     "output_type": "execute_result"
    }
   ],
   "source": [
    "# Nº de canales por cluster\n",
    "df_topics_expl.groupby('cluster')['_id'].nunique()"
   ]
  },
  {
   "cell_type": "code",
   "execution_count": 37,
   "metadata": {
    "execution": {
     "iopub.execute_input": "2025-09-09T17:33:30.125684Z",
     "iopub.status.busy": "2025-09-09T17:33:30.125112Z",
     "iopub.status.idle": "2025-09-09T17:33:30.141222Z",
     "shell.execute_reply": "2025-09-09T17:33:30.140653Z",
     "shell.execute_reply.started": "2025-09-09T17:33:30.125663Z"
    }
   },
   "outputs": [
    {
     "data": {
      "text/plain": [
       "count    102.000000\n",
       "mean      56.941176\n",
       "std       51.147975\n",
       "min        3.000000\n",
       "25%       30.000000\n",
       "50%       43.000000\n",
       "75%       64.750000\n",
       "max      327.000000\n",
       "Name: _id, dtype: float64"
      ]
     },
     "execution_count": 37,
     "metadata": {},
     "output_type": "execute_result"
    }
   ],
   "source": [
    "# Distribución del nº de canales por cluster (en aquellos que no son ruido)\n",
    "(\n",
    "    df_topics_expl[df_topics_expl[\"cluster\"] != -1]\n",
    "    .groupby(\"cluster\")[\"_id\"]\n",
    "    .nunique()\n",
    "    .describe()\n",
    ")"
   ]
  },
  {
   "cell_type": "code",
   "execution_count": 38,
   "metadata": {
    "execution": {
     "iopub.execute_input": "2025-09-09T17:35:50.645480Z",
     "iopub.status.busy": "2025-09-09T17:35:50.645227Z",
     "iopub.status.idle": "2025-09-09T17:35:50.654619Z",
     "shell.execute_reply": "2025-09-09T17:35:50.654084Z",
     "shell.execute_reply.started": "2025-09-09T17:35:50.645463Z"
    }
   },
   "outputs": [
    {
     "name": "stdout",
     "output_type": "stream",
     "text": [
      "49.08 % es ruido\n"
     ]
    }
   ],
   "source": [
    "noise = len(df_topics_expl[df_topics_expl[\"cluster\"] == -1])\n",
    "noise_perc = round((noise / len(df_topics_expl) * 100), 2)\n",
    "print(f\"{noise_perc} % es ruido\")"
   ]
  },
  {
   "cell_type": "code",
   "execution_count": 39,
   "metadata": {
    "execution": {
     "iopub.execute_input": "2025-09-09T17:37:31.080865Z",
     "iopub.status.busy": "2025-09-09T17:37:31.080590Z",
     "iopub.status.idle": "2025-09-09T17:37:31.097364Z",
     "shell.execute_reply": "2025-09-09T17:37:31.096742Z",
     "shell.execute_reply.started": "2025-09-09T17:37:31.080847Z"
    }
   },
   "outputs": [
    {
     "name": "stdout",
     "output_type": "stream",
     "text": [
      "396 canales de 404 tienen al menos 1 tópico que no es ruido\n"
     ]
    }
   ],
   "source": [
    "# Filtrar ruido (cluster == -1)\n",
    "non_noise = df_topics_expl[df_topics_expl['cluster'] != -1]\n",
    "\n",
    "# Contar tópicos distintos de ruido por canal (_id)\n",
    "count_per_channel = non_noise.groupby('_id').size().reset_index(name='non_noise_count')\n",
    "\n",
    "# Contar cuántos canales tienen más de un tópico que no es ruido\n",
    "result = (count_per_channel['non_noise_count'] > 1).sum()\n",
    "\n",
    "print(f\"{result} canales de {df_topics['_id'].nunique()} tienen al menos 1 tópico que no es ruido\")"
   ]
  },
  {
   "cell_type": "markdown",
   "metadata": {},
   "source": [
    "## Nubes de palabras"
   ]
  },
  {
   "cell_type": "code",
   "execution_count": 49,
   "metadata": {
    "execution": {
     "iopub.execute_input": "2025-09-09T17:47:39.746423Z",
     "iopub.status.busy": "2025-09-09T17:47:39.746184Z",
     "iopub.status.idle": "2025-09-09T17:47:39.749728Z",
     "shell.execute_reply": "2025-09-09T17:47:39.749151Z",
     "shell.execute_reply.started": "2025-09-09T17:47:39.746407Z"
    }
   },
   "outputs": [],
   "source": [
    "out_dir = \"../outputs/nubes\""
   ]
  },
  {
   "cell_type": "code",
   "execution_count": 58,
   "metadata": {
    "execution": {
     "iopub.execute_input": "2025-09-09T18:08:49.244431Z",
     "iopub.status.busy": "2025-09-09T18:08:49.244159Z",
     "iopub.status.idle": "2025-09-09T18:08:58.845463Z",
     "shell.execute_reply": "2025-09-09T18:08:58.844852Z",
     "shell.execute_reply.started": "2025-09-09T18:08:49.244408Z"
    }
   },
   "outputs": [
    {
     "name": "stderr",
     "output_type": "stream",
     "text": [
      "100%|██████████| 102/102 [00:09<00:00, 10.63it/s]\n"
     ]
    }
   ],
   "source": [
    "# Recorremos todos los tópicos excepto el -1 (outliers)\n",
    "for topic in tqdm([t for t in topic_model.get_topics().keys() if t != -1]):\n",
    "    freqs = dict(topic_model.get_topic(topic))\n",
    "    wc = WordCloud(background_color=\"white\", max_words=10000)\n",
    "    wc.generate_from_frequencies(freqs).to_file(os.path.join(out_dir, f\"cluster_{topic}.png\"))"
   ]
  }
 ],
 "metadata": {
  "kaggle": {
   "accelerator": "nvidiaTeslaT4",
   "dataSources": [
    {
     "datasetId": 8131685,
     "sourceId": 12856279,
     "sourceType": "datasetVersion"
    },
    {
     "datasetId": 8237106,
     "sourceId": 13010661,
     "sourceType": "datasetVersion"
    }
   ],
   "dockerImageVersionId": 31089,
   "isGpuEnabled": true,
   "isInternetEnabled": true,
   "language": "python",
   "sourceType": "notebook"
  },
  "kernelspec": {
   "display_name": "Python 3 (ipykernel)",
   "language": "python",
   "name": "python3"
  },
  "language_info": {
   "codemirror_mode": {
    "name": "ipython",
    "version": 3
   },
   "file_extension": ".py",
   "mimetype": "text/x-python",
   "name": "python",
   "nbconvert_exporter": "python",
   "pygments_lexer": "ipython3",
   "version": "3.10.12"
  }
 },
 "nbformat": 4,
 "nbformat_minor": 4
}
